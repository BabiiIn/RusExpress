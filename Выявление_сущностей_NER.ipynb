{
  "nbformat": 4,
  "nbformat_minor": 0,
  "metadata": {
    "colab": {
      "provenance": [],
      "collapsed_sections": [
        "k1D7hXtBE14R",
        "ATXcQAHCE5-4",
        "seRyvIJIDmnG",
        "IuokEp67NJwQ",
        "Wjm9-Wf_MjM9",
        "HR9fkuxmMmUj",
        "xXMR2uHAM8hy",
        "Ejpgt3aMNcM-",
        "dKYAO6CjEC5f",
        "CXlquh2aDpet",
        "setpPJb0aLIQ",
        "QJ3LmEZPaA03",
        "Szknxvq6bXPE",
        "Z8Te-pbVbXPF",
        "RTjpQPtjbXPH",
        "E3nyVo6MbXPK",
        "00bLwIpFDrL_",
        "facv9NnbdxLW",
        "rui06un-hM95",
        "WSaJMTrYhTK5",
        "45f-qGighmV2"
      ],
      "include_colab_link": true
    },
    "kernelspec": {
      "name": "python3",
      "display_name": "Python 3"
    },
    "language_info": {
      "name": "python"
    }
  },
  "cells": [
    {
      "cell_type": "markdown",
      "metadata": {
        "id": "view-in-github",
        "colab_type": "text"
      },
      "source": [
        "<a href=\"https://colab.research.google.com/github/BabiiIn/RusExpress/blob/main/%D0%92%D1%8B%D1%8F%D0%B2%D0%BB%D0%B5%D0%BD%D0%B8%D0%B5_%D1%81%D1%83%D1%89%D0%BD%D0%BE%D1%81%D1%82%D0%B5%D0%B9_NER.ipynb\" target=\"_parent\"><img src=\"https://colab.research.google.com/assets/colab-badge.svg\" alt=\"Open In Colab\"/></a>"
      ]
    },
    {
      "cell_type": "code",
      "source": [
        "!pip install ipython-autotime # Подсчет времени выполнения операций\n",
        "%load_ext autotime"
      ],
      "metadata": {
        "id": "WCHpxBPNYqsv",
        "colab": {
          "base_uri": "https://localhost:8080/"
        },
        "outputId": "4f0abd5e-1449-4aa0-929f-e508cb883301"
      },
      "execution_count": null,
      "outputs": [
        {
          "output_type": "stream",
          "name": "stdout",
          "text": [
            "Collecting ipython-autotime\n",
            "  Downloading ipython_autotime-0.3.2-py2.py3-none-any.whl (7.0 kB)\n",
            "Requirement already satisfied: ipython in /usr/local/lib/python3.10/dist-packages (from ipython-autotime) (7.34.0)\n",
            "Requirement already satisfied: setuptools>=18.5 in /usr/local/lib/python3.10/dist-packages (from ipython->ipython-autotime) (67.7.2)\n",
            "Collecting jedi>=0.16 (from ipython->ipython-autotime)\n",
            "  Downloading jedi-0.19.1-py2.py3-none-any.whl (1.6 MB)\n",
            "\u001b[2K     \u001b[90m━━━━━━━━━━━━━━━━━━━━━━━━━━━━━━━━━━━━━━━━\u001b[0m \u001b[32m1.6/1.6 MB\u001b[0m \u001b[31m8.3 MB/s\u001b[0m eta \u001b[36m0:00:00\u001b[0m\n",
            "\u001b[?25hRequirement already satisfied: decorator in /usr/local/lib/python3.10/dist-packages (from ipython->ipython-autotime) (4.4.2)\n",
            "Requirement already satisfied: pickleshare in /usr/local/lib/python3.10/dist-packages (from ipython->ipython-autotime) (0.7.5)\n",
            "Requirement already satisfied: traitlets>=4.2 in /usr/local/lib/python3.10/dist-packages (from ipython->ipython-autotime) (5.7.1)\n",
            "Requirement already satisfied: prompt-toolkit!=3.0.0,!=3.0.1,<3.1.0,>=2.0.0 in /usr/local/lib/python3.10/dist-packages (from ipython->ipython-autotime) (3.0.43)\n",
            "Requirement already satisfied: pygments in /usr/local/lib/python3.10/dist-packages (from ipython->ipython-autotime) (2.16.1)\n",
            "Requirement already satisfied: backcall in /usr/local/lib/python3.10/dist-packages (from ipython->ipython-autotime) (0.2.0)\n",
            "Requirement already satisfied: matplotlib-inline in /usr/local/lib/python3.10/dist-packages (from ipython->ipython-autotime) (0.1.6)\n",
            "Requirement already satisfied: pexpect>4.3 in /usr/local/lib/python3.10/dist-packages (from ipython->ipython-autotime) (4.9.0)\n",
            "Requirement already satisfied: parso<0.9.0,>=0.8.3 in /usr/local/lib/python3.10/dist-packages (from jedi>=0.16->ipython->ipython-autotime) (0.8.3)\n",
            "Requirement already satisfied: ptyprocess>=0.5 in /usr/local/lib/python3.10/dist-packages (from pexpect>4.3->ipython->ipython-autotime) (0.7.0)\n",
            "Requirement already satisfied: wcwidth in /usr/local/lib/python3.10/dist-packages (from prompt-toolkit!=3.0.0,!=3.0.1,<3.1.0,>=2.0.0->ipython->ipython-autotime) (0.2.13)\n",
            "Installing collected packages: jedi, ipython-autotime\n",
            "Successfully installed ipython-autotime-0.3.2 jedi-0.19.1\n",
            "time: 342 µs (started: 2024-03-04 08:12:33 +00:00)\n"
          ]
        }
      ]
    },
    {
      "cell_type": "markdown",
      "source": [
        "# Установка библиотек для чтения файлов"
      ],
      "metadata": {
        "id": "k1D7hXtBE14R"
      }
    },
    {
      "cell_type": "code",
      "source": [
        "!pip install langchain_community # 0.0.24\n",
        "!pip install unstructured # 0.12.4"
      ],
      "metadata": {
        "id": "WZDqJ2_0EwKS",
        "colab": {
          "base_uri": "https://localhost:8080/"
        },
        "outputId": "f4dd2ffb-0eef-4dfe-b123-563a5d334324"
      },
      "execution_count": null,
      "outputs": [
        {
          "output_type": "stream",
          "name": "stdout",
          "text": [
            "Collecting langchain_community\n",
            "  Downloading langchain_community-0.0.25-py3-none-any.whl (1.8 MB)\n",
            "\u001b[2K     \u001b[90m━━━━━━━━━━━━━━━━━━━━━━━━━━━━━━━━━━━━━━━━\u001b[0m \u001b[32m1.8/1.8 MB\u001b[0m \u001b[31m8.3 MB/s\u001b[0m eta \u001b[36m0:00:00\u001b[0m\n",
            "\u001b[?25hRequirement already satisfied: PyYAML>=5.3 in /usr/local/lib/python3.10/dist-packages (from langchain_community) (6.0.1)\n",
            "Requirement already satisfied: SQLAlchemy<3,>=1.4 in /usr/local/lib/python3.10/dist-packages (from langchain_community) (2.0.27)\n",
            "Requirement already satisfied: aiohttp<4.0.0,>=3.8.3 in /usr/local/lib/python3.10/dist-packages (from langchain_community) (3.9.3)\n",
            "Collecting dataclasses-json<0.7,>=0.5.7 (from langchain_community)\n",
            "  Downloading dataclasses_json-0.6.4-py3-none-any.whl (28 kB)\n",
            "Collecting langchain-core<0.2.0,>=0.1.28 (from langchain_community)\n",
            "  Downloading langchain_core-0.1.28-py3-none-any.whl (252 kB)\n",
            "\u001b[2K     \u001b[90m━━━━━━━━━━━━━━━━━━━━━━━━━━━━━━━━━━━━━━━━\u001b[0m \u001b[32m252.4/252.4 kB\u001b[0m \u001b[31m17.9 MB/s\u001b[0m eta \u001b[36m0:00:00\u001b[0m\n",
            "\u001b[?25hCollecting langsmith<0.2.0,>=0.1.0 (from langchain_community)\n",
            "  Downloading langsmith-0.1.14-py3-none-any.whl (64 kB)\n",
            "\u001b[2K     \u001b[90m━━━━━━━━━━━━━━━━━━━━━━━━━━━━━━━━━━━━━━━━\u001b[0m \u001b[32m64.5/64.5 kB\u001b[0m \u001b[31m5.6 MB/s\u001b[0m eta \u001b[36m0:00:00\u001b[0m\n",
            "\u001b[?25hRequirement already satisfied: numpy<2,>=1 in /usr/local/lib/python3.10/dist-packages (from langchain_community) (1.25.2)\n",
            "Requirement already satisfied: requests<3,>=2 in /usr/local/lib/python3.10/dist-packages (from langchain_community) (2.31.0)\n",
            "Requirement already satisfied: tenacity<9.0.0,>=8.1.0 in /usr/local/lib/python3.10/dist-packages (from langchain_community) (8.2.3)\n",
            "Requirement already satisfied: aiosignal>=1.1.2 in /usr/local/lib/python3.10/dist-packages (from aiohttp<4.0.0,>=3.8.3->langchain_community) (1.3.1)\n",
            "Requirement already satisfied: attrs>=17.3.0 in /usr/local/lib/python3.10/dist-packages (from aiohttp<4.0.0,>=3.8.3->langchain_community) (23.2.0)\n",
            "Requirement already satisfied: frozenlist>=1.1.1 in /usr/local/lib/python3.10/dist-packages (from aiohttp<4.0.0,>=3.8.3->langchain_community) (1.4.1)\n",
            "Requirement already satisfied: multidict<7.0,>=4.5 in /usr/local/lib/python3.10/dist-packages (from aiohttp<4.0.0,>=3.8.3->langchain_community) (6.0.5)\n",
            "Requirement already satisfied: yarl<2.0,>=1.0 in /usr/local/lib/python3.10/dist-packages (from aiohttp<4.0.0,>=3.8.3->langchain_community) (1.9.4)\n",
            "Requirement already satisfied: async-timeout<5.0,>=4.0 in /usr/local/lib/python3.10/dist-packages (from aiohttp<4.0.0,>=3.8.3->langchain_community) (4.0.3)\n",
            "Collecting marshmallow<4.0.0,>=3.18.0 (from dataclasses-json<0.7,>=0.5.7->langchain_community)\n",
            "  Downloading marshmallow-3.21.0-py3-none-any.whl (49 kB)\n",
            "\u001b[2K     \u001b[90m━━━━━━━━━━━━━━━━━━━━━━━━━━━━━━━━━━━━━━━━\u001b[0m \u001b[32m49.4/49.4 kB\u001b[0m \u001b[31m5.2 MB/s\u001b[0m eta \u001b[36m0:00:00\u001b[0m\n",
            "\u001b[?25hCollecting typing-inspect<1,>=0.4.0 (from dataclasses-json<0.7,>=0.5.7->langchain_community)\n",
            "  Downloading typing_inspect-0.9.0-py3-none-any.whl (8.8 kB)\n",
            "Requirement already satisfied: anyio<5,>=3 in /usr/local/lib/python3.10/dist-packages (from langchain-core<0.2.0,>=0.1.28->langchain_community) (3.7.1)\n",
            "Collecting jsonpatch<2.0,>=1.33 (from langchain-core<0.2.0,>=0.1.28->langchain_community)\n",
            "  Downloading jsonpatch-1.33-py2.py3-none-any.whl (12 kB)\n",
            "Requirement already satisfied: packaging<24.0,>=23.2 in /usr/local/lib/python3.10/dist-packages (from langchain-core<0.2.0,>=0.1.28->langchain_community) (23.2)\n",
            "Requirement already satisfied: pydantic<3,>=1 in /usr/local/lib/python3.10/dist-packages (from langchain-core<0.2.0,>=0.1.28->langchain_community) (2.6.3)\n",
            "Collecting orjson<4.0.0,>=3.9.14 (from langsmith<0.2.0,>=0.1.0->langchain_community)\n",
            "  Downloading orjson-3.9.15-cp310-cp310-manylinux_2_17_x86_64.manylinux2014_x86_64.whl (138 kB)\n",
            "\u001b[2K     \u001b[90m━━━━━━━━━━━━━━━━━━━━━━━━━━━━━━━━━━━━━━━━\u001b[0m \u001b[32m138.5/138.5 kB\u001b[0m \u001b[31m17.1 MB/s\u001b[0m eta \u001b[36m0:00:00\u001b[0m\n",
            "\u001b[?25hRequirement already satisfied: charset-normalizer<4,>=2 in /usr/local/lib/python3.10/dist-packages (from requests<3,>=2->langchain_community) (3.3.2)\n",
            "Requirement already satisfied: idna<4,>=2.5 in /usr/local/lib/python3.10/dist-packages (from requests<3,>=2->langchain_community) (3.6)\n",
            "Requirement already satisfied: urllib3<3,>=1.21.1 in /usr/local/lib/python3.10/dist-packages (from requests<3,>=2->langchain_community) (2.0.7)\n",
            "Requirement already satisfied: certifi>=2017.4.17 in /usr/local/lib/python3.10/dist-packages (from requests<3,>=2->langchain_community) (2024.2.2)\n",
            "Requirement already satisfied: typing-extensions>=4.6.0 in /usr/local/lib/python3.10/dist-packages (from SQLAlchemy<3,>=1.4->langchain_community) (4.10.0)\n",
            "Requirement already satisfied: greenlet!=0.4.17 in /usr/local/lib/python3.10/dist-packages (from SQLAlchemy<3,>=1.4->langchain_community) (3.0.3)\n",
            "Requirement already satisfied: sniffio>=1.1 in /usr/local/lib/python3.10/dist-packages (from anyio<5,>=3->langchain-core<0.2.0,>=0.1.28->langchain_community) (1.3.1)\n",
            "Requirement already satisfied: exceptiongroup in /usr/local/lib/python3.10/dist-packages (from anyio<5,>=3->langchain-core<0.2.0,>=0.1.28->langchain_community) (1.2.0)\n",
            "Collecting jsonpointer>=1.9 (from jsonpatch<2.0,>=1.33->langchain-core<0.2.0,>=0.1.28->langchain_community)\n",
            "  Downloading jsonpointer-2.4-py2.py3-none-any.whl (7.8 kB)\n",
            "Requirement already satisfied: annotated-types>=0.4.0 in /usr/local/lib/python3.10/dist-packages (from pydantic<3,>=1->langchain-core<0.2.0,>=0.1.28->langchain_community) (0.6.0)\n",
            "Requirement already satisfied: pydantic-core==2.16.3 in /usr/local/lib/python3.10/dist-packages (from pydantic<3,>=1->langchain-core<0.2.0,>=0.1.28->langchain_community) (2.16.3)\n",
            "Collecting mypy-extensions>=0.3.0 (from typing-inspect<1,>=0.4.0->dataclasses-json<0.7,>=0.5.7->langchain_community)\n",
            "  Downloading mypy_extensions-1.0.0-py3-none-any.whl (4.7 kB)\n",
            "Installing collected packages: orjson, mypy-extensions, marshmallow, jsonpointer, typing-inspect, jsonpatch, langsmith, dataclasses-json, langchain-core, langchain_community\n",
            "Successfully installed dataclasses-json-0.6.4 jsonpatch-1.33 jsonpointer-2.4 langchain-core-0.1.28 langchain_community-0.0.25 langsmith-0.1.14 marshmallow-3.21.0 mypy-extensions-1.0.0 orjson-3.9.15 typing-inspect-0.9.0\n",
            "Collecting unstructured\n",
            "  Downloading unstructured-0.12.5-py3-none-any.whl (1.8 MB)\n",
            "\u001b[2K     \u001b[90m━━━━━━━━━━━━━━━━━━━━━━━━━━━━━━━━━━━━━━━━\u001b[0m \u001b[32m1.8/1.8 MB\u001b[0m \u001b[31m7.6 MB/s\u001b[0m eta \u001b[36m0:00:00\u001b[0m\n",
            "\u001b[?25hRequirement already satisfied: chardet in /usr/local/lib/python3.10/dist-packages (from unstructured) (5.2.0)\n",
            "Collecting filetype (from unstructured)\n",
            "  Downloading filetype-1.2.0-py2.py3-none-any.whl (19 kB)\n",
            "Collecting python-magic (from unstructured)\n",
            "  Downloading python_magic-0.4.27-py2.py3-none-any.whl (13 kB)\n",
            "Requirement already satisfied: lxml in /usr/local/lib/python3.10/dist-packages (from unstructured) (4.9.4)\n",
            "Requirement already satisfied: nltk in /usr/local/lib/python3.10/dist-packages (from unstructured) (3.8.1)\n",
            "Requirement already satisfied: tabulate in /usr/local/lib/python3.10/dist-packages (from unstructured) (0.9.0)\n",
            "Requirement already satisfied: requests in /usr/local/lib/python3.10/dist-packages (from unstructured) (2.31.0)\n",
            "Requirement already satisfied: beautifulsoup4 in /usr/local/lib/python3.10/dist-packages (from unstructured) (4.12.3)\n",
            "Collecting emoji (from unstructured)\n",
            "  Downloading emoji-2.10.1-py2.py3-none-any.whl (421 kB)\n",
            "\u001b[2K     \u001b[90m━━━━━━━━━━━━━━━━━━━━━━━━━━━━━━━━━━━━━━━━\u001b[0m \u001b[32m421.5/421.5 kB\u001b[0m \u001b[31m30.0 MB/s\u001b[0m eta \u001b[36m0:00:00\u001b[0m\n",
            "\u001b[?25hRequirement already satisfied: dataclasses-json in /usr/local/lib/python3.10/dist-packages (from unstructured) (0.6.4)\n",
            "Collecting python-iso639 (from unstructured)\n",
            "  Downloading python_iso639-2024.2.7-py3-none-any.whl (274 kB)\n",
            "\u001b[2K     \u001b[90m━━━━━━━━━━━━━━━━━━━━━━━━━━━━━━━━━━━━━━━━\u001b[0m \u001b[32m274.7/274.7 kB\u001b[0m \u001b[31m24.6 MB/s\u001b[0m eta \u001b[36m0:00:00\u001b[0m\n",
            "\u001b[?25hCollecting langdetect (from unstructured)\n",
            "  Downloading langdetect-1.0.9.tar.gz (981 kB)\n",
            "\u001b[2K     \u001b[90m━━━━━━━━━━━━━━━━━━━━━━━━━━━━━━━━━━━━━━━━\u001b[0m \u001b[32m981.5/981.5 kB\u001b[0m \u001b[31m43.4 MB/s\u001b[0m eta \u001b[36m0:00:00\u001b[0m\n",
            "\u001b[?25h  Preparing metadata (setup.py) ... \u001b[?25l\u001b[?25hdone\n",
            "Requirement already satisfied: numpy in /usr/local/lib/python3.10/dist-packages (from unstructured) (1.25.2)\n",
            "Collecting rapidfuzz (from unstructured)\n",
            "  Downloading rapidfuzz-3.6.1-cp310-cp310-manylinux_2_17_x86_64.manylinux2014_x86_64.whl (3.4 MB)\n",
            "\u001b[2K     \u001b[90m━━━━━━━━━━━━━━━━━━━━━━━━━━━━━━━━━━━━━━━━\u001b[0m \u001b[32m3.4/3.4 MB\u001b[0m \u001b[31m45.3 MB/s\u001b[0m eta \u001b[36m0:00:00\u001b[0m\n",
            "\u001b[?25hCollecting backoff (from unstructured)\n",
            "  Downloading backoff-2.2.1-py3-none-any.whl (15 kB)\n",
            "Requirement already satisfied: typing-extensions in /usr/local/lib/python3.10/dist-packages (from unstructured) (4.10.0)\n",
            "Collecting unstructured-client>=0.15.1 (from unstructured)\n",
            "  Downloading unstructured_client-0.21.0-py3-none-any.whl (24 kB)\n",
            "Requirement already satisfied: wrapt in /usr/local/lib/python3.10/dist-packages (from unstructured) (1.14.1)\n",
            "Requirement already satisfied: certifi>=2023.7.22 in /usr/local/lib/python3.10/dist-packages (from unstructured-client>=0.15.1->unstructured) (2024.2.2)\n",
            "Requirement already satisfied: charset-normalizer>=3.2.0 in /usr/local/lib/python3.10/dist-packages (from unstructured-client>=0.15.1->unstructured) (3.3.2)\n",
            "Requirement already satisfied: idna>=3.4 in /usr/local/lib/python3.10/dist-packages (from unstructured-client>=0.15.1->unstructured) (3.6)\n",
            "Collecting jsonpath-python>=1.0.6 (from unstructured-client>=0.15.1->unstructured)\n",
            "  Downloading jsonpath_python-1.0.6-py3-none-any.whl (7.6 kB)\n",
            "Requirement already satisfied: marshmallow>=3.19.0 in /usr/local/lib/python3.10/dist-packages (from unstructured-client>=0.15.1->unstructured) (3.21.0)\n",
            "Requirement already satisfied: mypy-extensions>=1.0.0 in /usr/local/lib/python3.10/dist-packages (from unstructured-client>=0.15.1->unstructured) (1.0.0)\n",
            "Requirement already satisfied: packaging>=23.1 in /usr/local/lib/python3.10/dist-packages (from unstructured-client>=0.15.1->unstructured) (23.2)\n",
            "Requirement already satisfied: python-dateutil>=2.8.2 in /usr/local/lib/python3.10/dist-packages (from unstructured-client>=0.15.1->unstructured) (2.8.2)\n",
            "Requirement already satisfied: six>=1.16.0 in /usr/local/lib/python3.10/dist-packages (from unstructured-client>=0.15.1->unstructured) (1.16.0)\n",
            "Requirement already satisfied: typing-inspect>=0.9.0 in /usr/local/lib/python3.10/dist-packages (from unstructured-client>=0.15.1->unstructured) (0.9.0)\n",
            "Requirement already satisfied: urllib3>=1.26.18 in /usr/local/lib/python3.10/dist-packages (from unstructured-client>=0.15.1->unstructured) (2.0.7)\n",
            "Requirement already satisfied: soupsieve>1.2 in /usr/local/lib/python3.10/dist-packages (from beautifulsoup4->unstructured) (2.5)\n",
            "Requirement already satisfied: click in /usr/local/lib/python3.10/dist-packages (from nltk->unstructured) (8.1.7)\n",
            "Requirement already satisfied: joblib in /usr/local/lib/python3.10/dist-packages (from nltk->unstructured) (1.3.2)\n",
            "Requirement already satisfied: regex>=2021.8.3 in /usr/local/lib/python3.10/dist-packages (from nltk->unstructured) (2023.12.25)\n",
            "Requirement already satisfied: tqdm in /usr/local/lib/python3.10/dist-packages (from nltk->unstructured) (4.66.2)\n",
            "Building wheels for collected packages: langdetect\n",
            "  Building wheel for langdetect (setup.py) ... \u001b[?25l\u001b[?25hdone\n",
            "  Created wheel for langdetect: filename=langdetect-1.0.9-py3-none-any.whl size=993225 sha256=d8174b035f5c887942727d1e4c39b3aa35bdd5b456bc7d55efbf9e943d1e1cd6\n",
            "  Stored in directory: /root/.cache/pip/wheels/95/03/7d/59ea870c70ce4e5a370638b5462a7711ab78fba2f655d05106\n",
            "Successfully built langdetect\n",
            "Installing collected packages: filetype, rapidfuzz, python-magic, python-iso639, langdetect, jsonpath-python, emoji, backoff, unstructured-client, unstructured\n",
            "Successfully installed backoff-2.2.1 emoji-2.10.1 filetype-1.2.0 jsonpath-python-1.0.6 langdetect-1.0.9 python-iso639-2024.2.7 python-magic-0.4.27 rapidfuzz-3.6.1 unstructured-0.12.5 unstructured-client-0.21.0\n",
            "time: 28.6 s (started: 2024-03-04 08:12:57 +00:00)\n"
          ]
        }
      ]
    },
    {
      "cell_type": "markdown",
      "source": [
        "# Загрузка файлов"
      ],
      "metadata": {
        "id": "ATXcQAHCE5-4"
      }
    },
    {
      "cell_type": "code",
      "source": [
        "from google.colab import drive\n",
        "drive.mount('/content/drive')"
      ],
      "metadata": {
        "colab": {
          "base_uri": "https://localhost:8080/"
        },
        "id": "T0NqJzsQIY2u",
        "outputId": "f98b87fc-fd90-4ca7-c7dc-94d985ff5344"
      },
      "execution_count": null,
      "outputs": [
        {
          "output_type": "stream",
          "name": "stdout",
          "text": [
            "Mounted at /content/drive\n",
            "time: 23.7 s (started: 2024-03-04 08:13:30 +00:00)\n"
          ]
        }
      ]
    },
    {
      "cell_type": "code",
      "source": [
        "import os\n",
        "import zipfile"
      ],
      "metadata": {
        "id": "ptKow8fOFuMt",
        "colab": {
          "base_uri": "https://localhost:8080/"
        },
        "outputId": "240d02c6-c4e0-407e-a190-19d4ee399503"
      },
      "execution_count": null,
      "outputs": [
        {
          "output_type": "stream",
          "name": "stdout",
          "text": [
            "time: 622 µs (started: 2024-03-04 08:13:57 +00:00)\n"
          ]
        }
      ]
    },
    {
      "cell_type": "code",
      "source": [
        "def load_and_extract(zip_file, extract_to):\n",
        "\n",
        "    if not os.path.exists(extract_to):\n",
        "        os.makedirs(extract_to)\n",
        "\n",
        "    with zipfile.ZipFile(zip_file, 'r') as zip_ref:\n",
        "        zip_ref.extractall(extract_to)"
      ],
      "metadata": {
        "id": "iw2W4cyHDmOI",
        "colab": {
          "base_uri": "https://localhost:8080/"
        },
        "outputId": "266cf062-c079-494f-ec41-717869b45caa"
      },
      "execution_count": null,
      "outputs": [
        {
          "output_type": "stream",
          "name": "stdout",
          "text": [
            "time: 731 µs (started: 2024-03-04 08:14:01 +00:00)\n"
          ]
        }
      ]
    },
    {
      "cell_type": "code",
      "source": [
        "zip_file = '/content/drive/MyDrive/RusExpress/1.zip'\n",
        "extract_to = 'docs'\n",
        "\n",
        "load_and_extract(zip_file, extract_to)"
      ],
      "metadata": {
        "colab": {
          "base_uri": "https://localhost:8080/"
        },
        "id": "8rN0ce1UF1fG",
        "outputId": "172924fd-8f76-41c4-d9c3-44aff638fc7b"
      },
      "execution_count": null,
      "outputs": [
        {
          "output_type": "stream",
          "name": "stdout",
          "text": [
            "time: 917 ms (started: 2024-03-04 08:14:27 +00:00)\n"
          ]
        }
      ]
    },
    {
      "cell_type": "code",
      "source": [
        "folder_path = os.path.join(\"./\", extract_to)\n",
        "\n",
        "all_files = sorted(os.listdir(folder_path))\n",
        "doc_files = [fn for fn in all_files if fn.lower().endswith('.doc') or fn.lower().endswith('.docx')]\n",
        "xls_files = [fn for fn in all_files if fn.lower().endswith('.xls') or fn.lower().endswith('.xlsx')]\n",
        "pdf_files = [fn for fn in all_files if fn.lower().endswith('.pdf')]"
      ],
      "metadata": {
        "id": "zxDu9CEzjas7",
        "colab": {
          "base_uri": "https://localhost:8080/"
        },
        "outputId": "82cb3e75-ad98-48ea-f905-5d9cf812d07b"
      },
      "execution_count": null,
      "outputs": [
        {
          "output_type": "stream",
          "name": "stdout",
          "text": [
            "time: 2.24 ms (started: 2024-03-04 08:14:41 +00:00)\n"
          ]
        }
      ]
    },
    {
      "cell_type": "code",
      "source": [
        "print(doc_files)"
      ],
      "metadata": {
        "id": "LwC_0OPdkUKI",
        "colab": {
          "base_uri": "https://localhost:8080/"
        },
        "outputId": "dcda8c9e-fe9c-4a2e-938e-5525c62b0d35"
      },
      "execution_count": null,
      "outputs": [
        {
          "output_type": "stream",
          "name": "stdout",
          "text": [
            "['1087300000923000020_0.docx', '2019500000123000291_0.docx', '2025500000123000013_0.docx', '9800600000423000056_0.docx']\n",
            "time: 610 µs (started: 2024-03-04 08:16:01 +00:00)\n"
          ]
        }
      ]
    },
    {
      "cell_type": "markdown",
      "source": [
        "# doc"
      ],
      "metadata": {
        "id": "seRyvIJIDmnG"
      }
    },
    {
      "cell_type": "code",
      "source": [
        "!pip install docx2txt\n",
        "!pip install python-docx"
      ],
      "metadata": {
        "id": "HKCIb_UjSjyo",
        "colab": {
          "base_uri": "https://localhost:8080/"
        },
        "outputId": "a1b5ddf4-9475-43a4-e3b0-55407051a83a"
      },
      "execution_count": null,
      "outputs": [
        {
          "output_type": "stream",
          "name": "stdout",
          "text": [
            "Collecting docx2txt\n",
            "  Downloading docx2txt-0.8.tar.gz (2.8 kB)\n",
            "  Preparing metadata (setup.py) ... \u001b[?25l\u001b[?25hdone\n",
            "Building wheels for collected packages: docx2txt\n",
            "  Building wheel for docx2txt (setup.py) ... \u001b[?25l\u001b[?25hdone\n",
            "  Created wheel for docx2txt: filename=docx2txt-0.8-py3-none-any.whl size=3960 sha256=067c8f2ebfdee7db20491ddc4155b13a1d8ce08588fa3c595a6bf56c7507bbc8\n",
            "  Stored in directory: /root/.cache/pip/wheels/22/58/cf/093d0a6c3ecfdfc5f6ddd5524043b88e59a9a199cb02352966\n",
            "Successfully built docx2txt\n",
            "Installing collected packages: docx2txt\n",
            "Successfully installed docx2txt-0.8\n",
            "Collecting python-docx\n",
            "  Downloading python_docx-1.1.0-py3-none-any.whl (239 kB)\n",
            "\u001b[2K     \u001b[90m━━━━━━━━━━━━━━━━━━━━━━━━━━━━━━━━━━━━━━━━\u001b[0m \u001b[32m239.6/239.6 kB\u001b[0m \u001b[31m2.1 MB/s\u001b[0m eta \u001b[36m0:00:00\u001b[0m\n",
            "\u001b[?25hRequirement already satisfied: lxml>=3.1.0 in /usr/local/lib/python3.10/dist-packages (from python-docx) (4.9.4)\n",
            "Requirement already satisfied: typing-extensions in /usr/local/lib/python3.10/dist-packages (from python-docx) (4.10.0)\n",
            "Installing collected packages: python-docx\n",
            "Successfully installed python-docx-1.1.0\n",
            "time: 15.1 s (started: 2024-03-04 08:16:08 +00:00)\n"
          ]
        }
      ]
    },
    {
      "cell_type": "markdown",
      "source": [
        "## Чтение файлов"
      ],
      "metadata": {
        "id": "IuokEp67NJwQ"
      }
    },
    {
      "cell_type": "markdown",
      "source": [
        "### Docx2txtLoader"
      ],
      "metadata": {
        "id": "Wjm9-Wf_MjM9"
      }
    },
    {
      "cell_type": "code",
      "source": [
        "from langchain_community.document_loaders import Docx2txtLoader"
      ],
      "metadata": {
        "id": "3C67RGm0MXGi",
        "colab": {
          "base_uri": "https://localhost:8080/"
        },
        "outputId": "505e94e6-0df8-4ea5-8e84-bf0cb4248b53"
      },
      "execution_count": null,
      "outputs": [
        {
          "output_type": "stream",
          "name": "stdout",
          "text": [
            "time: 1.43 s (started: 2024-03-04 08:18:09 +00:00)\n"
          ]
        }
      ]
    },
    {
      "cell_type": "code",
      "source": [
        "all_doc_documents = []\n",
        "not_correct_files = 0\n",
        "\n",
        "for fn in doc_files[:10]:\n",
        "    try:\n",
        "        doc_document = Docx2txtLoader(os.path.join(folder_path, fn)).load()\n",
        "        all_doc_documents.extend(doc_document)\n",
        "    except:\n",
        "        print(f'Файл {fn} имеет не правильный формат.')\n",
        "        not_correct_files += 1\n",
        "\n",
        "print(f'Не правильных файлов {not_correct_files}')"
      ],
      "metadata": {
        "id": "hJBttRQSGz5R",
        "colab": {
          "base_uri": "https://localhost:8080/"
        },
        "outputId": "02d8108a-f1b0-4122-e588-f2338bde357d"
      },
      "execution_count": null,
      "outputs": [
        {
          "output_type": "stream",
          "name": "stdout",
          "text": [
            "Не правильных файлов 0\n",
            "time: 297 ms (started: 2024-03-04 08:18:13 +00:00)\n"
          ]
        }
      ]
    },
    {
      "cell_type": "code",
      "source": [
        "len(all_doc_documents)"
      ],
      "metadata": {
        "colab": {
          "base_uri": "https://localhost:8080/"
        },
        "id": "HzYdWHijL82X",
        "outputId": "a9c38417-75c1-4b64-dc62-9fc7973dbb85"
      },
      "execution_count": null,
      "outputs": [
        {
          "output_type": "execute_result",
          "data": {
            "text/plain": [
              "4"
            ]
          },
          "metadata": {},
          "execution_count": 13
        },
        {
          "output_type": "stream",
          "name": "stdout",
          "text": [
            "time: 2.68 ms (started: 2024-03-04 08:18:22 +00:00)\n"
          ]
        }
      ]
    },
    {
      "cell_type": "code",
      "source": [
        "doc_files"
      ],
      "metadata": {
        "id": "-VCzeOX1R0z_",
        "colab": {
          "base_uri": "https://localhost:8080/"
        },
        "outputId": "db35a0f7-f395-41e0-ee27-288c9fcfa70d"
      },
      "execution_count": null,
      "outputs": [
        {
          "output_type": "execute_result",
          "data": {
            "text/plain": [
              "['1087300000923000020_0.docx',\n",
              " '2019500000123000291_0.docx',\n",
              " '2025500000123000013_0.docx',\n",
              " '9800600000423000056_0.docx']"
            ]
          },
          "metadata": {},
          "execution_count": 14
        },
        {
          "output_type": "stream",
          "name": "stdout",
          "text": [
            "time: 3.4 ms (started: 2024-03-04 08:18:29 +00:00)\n"
          ]
        }
      ]
    },
    {
      "cell_type": "code",
      "source": [],
      "metadata": {
        "id": "DDS7AwQmOjYG"
      },
      "execution_count": null,
      "outputs": []
    },
    {
      "cell_type": "markdown",
      "source": [
        "### UnstructuredWordDocumentLoader"
      ],
      "metadata": {
        "id": "HR9fkuxmMmUj"
      }
    },
    {
      "cell_type": "code",
      "execution_count": null,
      "metadata": {
        "id": "4JF3tUz_DiA8",
        "colab": {
          "base_uri": "https://localhost:8080/"
        },
        "outputId": "48b06c1c-8c7f-4a38-d771-e88d5b0cf35d"
      },
      "outputs": [
        {
          "output_type": "stream",
          "name": "stdout",
          "text": [
            "time: 407 µs (started: 2024-03-04 08:19:01 +00:00)\n"
          ]
        }
      ],
      "source": [
        "from langchain_community.document_loaders import UnstructuredWordDocumentLoader"
      ]
    },
    {
      "cell_type": "code",
      "source": [
        "# doc_file = '/content/docx/0101100009423000050.docx'\n",
        "# loader = UnstructuredWordDocumentLoader(doc_file)\n",
        "# data = loader.load()"
      ],
      "metadata": {
        "id": "YNN2OWlfGDLu"
      },
      "execution_count": null,
      "outputs": []
    },
    {
      "cell_type": "code",
      "execution_count": null,
      "metadata": {
        "id": "nJ3sGFJWJNCx",
        "colab": {
          "base_uri": "https://localhost:8080/"
        },
        "outputId": "4458537d-22a1-490c-f98b-5c48dacecdff"
      },
      "outputs": [
        {
          "output_type": "stream",
          "name": "stderr",
          "text": [
            "[nltk_data] Downloading package punkt to /root/nltk_data...\n",
            "[nltk_data]   Unzipping tokenizers/punkt.zip.\n",
            "[nltk_data] Downloading package averaged_perceptron_tagger to\n",
            "[nltk_data]     /root/nltk_data...\n",
            "[nltk_data]   Unzipping taggers/averaged_perceptron_tagger.zip.\n"
          ]
        },
        {
          "output_type": "stream",
          "name": "stdout",
          "text": [
            "Не правильных файлов 0\n",
            "time: 10.3 s (started: 2024-03-04 08:19:09 +00:00)\n"
          ]
        }
      ],
      "source": [
        "all_doc_documents = []\n",
        "not_correct_files = 0\n",
        "\n",
        "for fn in doc_files[:10]:\n",
        "    try:\n",
        "        doc_document = UnstructuredWordDocumentLoader(os.path.join(folder_path, fn)).load()\n",
        "        all_doc_documents.extend(doc_document)\n",
        "    except:\n",
        "        print(f'Файл {fn} имеет не правильный формат.')\n",
        "        not_correct_files += 1\n",
        "\n",
        "print(f'Не правильных файлов {not_correct_files}')"
      ]
    },
    {
      "cell_type": "code",
      "source": [
        "len(all_doc_documents)"
      ],
      "metadata": {
        "colab": {
          "base_uri": "https://localhost:8080/"
        },
        "id": "RzCx1iZNKSJD",
        "outputId": "c8243a21-c39b-4785-ad60-5a53c2ce0c95"
      },
      "execution_count": null,
      "outputs": [
        {
          "output_type": "execute_result",
          "data": {
            "text/plain": [
              "4"
            ]
          },
          "metadata": {},
          "execution_count": 17
        },
        {
          "output_type": "stream",
          "name": "stdout",
          "text": [
            "time: 3.54 ms (started: 2024-03-04 08:19:24 +00:00)\n"
          ]
        }
      ]
    },
    {
      "cell_type": "code",
      "source": [
        "all_doc_documents[0].page_content"
      ],
      "metadata": {
        "id": "uux-D8v2lwiJ",
        "colab": {
          "base_uri": "https://localhost:8080/",
          "height": 140
        },
        "outputId": "b1e6d3ff-dcd4-4652-98cf-2f7de8e92d6b"
      },
      "execution_count": null,
      "outputs": [
        {
          "output_type": "execute_result",
          "data": {
            "text/plain": [
              "'\\t\\t\\t                                     СПЕЦИФИКАЦИЯ\\n\\nПОСТАВЛЯЕМЫХ ТОВАРОВ\\n\\n№ Наименование товара Размер Ед.\\nизм. Количество Цена с НДС\\nРУБ Сумма с НДС\\nРУБ 1 Футболка х/б   белая Унисекс плотность материала не менее 160 г/м2 тип полотна- кулирная гладь не менее 92% хлопок не менее 8 % эластан предназначенная для нанесения рисунка методом шелкографии упаковка индивидуальная 42 шт 5 2 46 шт 20 3 48 шт 30 4 50 шт 30 5 52 шт 30 6 54 шт 15 7 56 шт 10 8 60 шт 7 9 Футболка х/б   васильковая Унисекс плотность материала не менее 160 г/м2 тип полотна- кулирная гладь не менее 92% хлопок не менее 8 % эластан предназначенная для нанесения рисунка методом шелкографии упаковка индивидуальная 36 шт 5 10 38 шт 5 11 40 шт 5 12 48 шт 5 13 50 шт 5 14 52 шт 5 15 56 шт 5 16 60 шт 3 17 Футболка х/б   красная Унисекс плотность материала не менее 160 г/м2 тип полотна- кулирная гладь не менее 92% хлопок не менее 8 % эластан предназначенная для нанесения рисунка методом шелкографии упаковка индивидуальная 60 шт 3 18 48 шт 5 19 Футболка х/б   черная Унисекс плотность материала не менее 160 г/м2 тип полотна- кулирная гладь не менее 92% хлопок не менее 8 % эластан предназначенная для нанесения рисунка методом шелкографии упаковка индивидуальная 44 шт 5 20 46 шт 10 21 48 шт 15 22 50 шт 15 23 52 шт 10 24 54 шт 10 25 60 шт 5 26 Футболка х/б   зеленая (темная) Унисекс плотность материала не менее 160 г/м2 тип полотна- кулирная гладь не менее 92% хлопок не менее 8 % эластан предназначенная для нанесения рисунка методом шелкографии упаковка индивидуальная 42 шт 5 27 46 шт 5 28 48 шт 5 29 52 шт 5 30 56 шт 5 31 60 шт 3 32 Бейсболка велюр белая Унисекс Состав: твил или 100% х/б Плотность: от 300 гр до 340 гр Застежка: Металлическая Размер: ONESIZE (регулируется) предназначенная для нанесения рисунка методом шелкографии упаковка индивидуальная ONESIZE шт 30 33 Бейсболка велюр красная (темная) Унисекс Состав: твил или 100% х/б Плотность: от 300 гр до 340 гр Застежка: Металлическая Размер: ONESIZE (регулируется) предназначенная для нанесения рисунка методом шелкографии упаковка индивидуальная ONESIZE шт 30 34 Бейсболка велюр синяя (васильковая) Унисекс Состав: твил или 100% х/б Плотность: от 300 гр до 340 гр Застежка: Металлическая Размер: ONESIZE (регулируется) предназначенная для нанесения рисунка методом шелкографии упаковка индивидуальная ONESIZE шт 30 35 Бейсболка велюр зеленая (темная) Унисекс Состав: твил или 100% х/б Плотность: от 300 гр до 340 гр Застежка: Металлическая Размер: ONESIZE (регулируется) предназначенная для нанесения рисунка методом шелкографии упаковка индивидуальная ONESIZE шт 30 ИТОГО: шт 411 Спецификация содержит: тридцать пять наименований Сумма НДС/ Без НДС  (20%) Всего НДС'"
            ],
            "application/vnd.google.colaboratory.intrinsic+json": {
              "type": "string"
            }
          },
          "metadata": {},
          "execution_count": 18
        },
        {
          "output_type": "stream",
          "name": "stdout",
          "text": [
            "time: 3.41 ms (started: 2024-03-04 08:19:27 +00:00)\n"
          ]
        }
      ]
    },
    {
      "cell_type": "code",
      "source": [
        "all_doc_documents[0].metadata"
      ],
      "metadata": {
        "id": "uCHiOyAsR0QG",
        "colab": {
          "base_uri": "https://localhost:8080/"
        },
        "outputId": "819d9562-991c-4824-88a5-9efb28702ecc"
      },
      "execution_count": null,
      "outputs": [
        {
          "output_type": "execute_result",
          "data": {
            "text/plain": [
              "{'source': './docs/1087300000923000020_0.docx'}"
            ]
          },
          "metadata": {},
          "execution_count": 19
        },
        {
          "output_type": "stream",
          "name": "stdout",
          "text": [
            "time: 3.54 ms (started: 2024-03-04 08:19:31 +00:00)\n"
          ]
        }
      ]
    },
    {
      "cell_type": "markdown",
      "source": [
        "## Извлечение сущностей"
      ],
      "metadata": {
        "id": "xXMR2uHAM8hy"
      }
    },
    {
      "cell_type": "markdown",
      "source": [
        "### Загрузка библиотек"
      ],
      "metadata": {
        "id": "Ejpgt3aMNcM-"
      }
    },
    {
      "cell_type": "code",
      "source": [
        "!pip install langchain openai langchain-openai"
      ],
      "metadata": {
        "id": "CY-GAOwAP-PX",
        "colab": {
          "base_uri": "https://localhost:8080/"
        },
        "outputId": "1a02fab7-a3d2-46bb-c620-676927116a35"
      },
      "execution_count": null,
      "outputs": [
        {
          "output_type": "stream",
          "name": "stdout",
          "text": [
            "Collecting langchain\n",
            "  Downloading langchain-0.1.10-py3-none-any.whl (806 kB)\n",
            "\u001b[2K     \u001b[90m━━━━━━━━━━━━━━━━━━━━━━━━━━━━━━━━━━━━━━━━\u001b[0m \u001b[32m806.2/806.2 kB\u001b[0m \u001b[31m5.4 MB/s\u001b[0m eta \u001b[36m0:00:00\u001b[0m\n",
            "\u001b[?25hCollecting openai\n",
            "  Downloading openai-1.13.3-py3-none-any.whl (227 kB)\n",
            "\u001b[2K     \u001b[90m━━━━━━━━━━━━━━━━━━━━━━━━━━━━━━━━━━━━━━━━\u001b[0m \u001b[32m227.4/227.4 kB\u001b[0m \u001b[31m19.5 MB/s\u001b[0m eta \u001b[36m0:00:00\u001b[0m\n",
            "\u001b[?25hCollecting langchain-openai\n",
            "  Downloading langchain_openai-0.0.8-py3-none-any.whl (32 kB)\n",
            "Requirement already satisfied: PyYAML>=5.3 in /usr/local/lib/python3.10/dist-packages (from langchain) (6.0.1)\n",
            "Requirement already satisfied: SQLAlchemy<3,>=1.4 in /usr/local/lib/python3.10/dist-packages (from langchain) (2.0.27)\n",
            "Requirement already satisfied: aiohttp<4.0.0,>=3.8.3 in /usr/local/lib/python3.10/dist-packages (from langchain) (3.9.3)\n",
            "Requirement already satisfied: async-timeout<5.0.0,>=4.0.0 in /usr/local/lib/python3.10/dist-packages (from langchain) (4.0.3)\n",
            "Requirement already satisfied: dataclasses-json<0.7,>=0.5.7 in /usr/local/lib/python3.10/dist-packages (from langchain) (0.6.4)\n",
            "Requirement already satisfied: jsonpatch<2.0,>=1.33 in /usr/local/lib/python3.10/dist-packages (from langchain) (1.33)\n",
            "Requirement already satisfied: langchain-community<0.1,>=0.0.25 in /usr/local/lib/python3.10/dist-packages (from langchain) (0.0.25)\n",
            "Requirement already satisfied: langchain-core<0.2,>=0.1.28 in /usr/local/lib/python3.10/dist-packages (from langchain) (0.1.28)\n",
            "Collecting langchain-text-splitters<0.1,>=0.0.1 (from langchain)\n",
            "  Downloading langchain_text_splitters-0.0.1-py3-none-any.whl (21 kB)\n",
            "Requirement already satisfied: langsmith<0.2.0,>=0.1.0 in /usr/local/lib/python3.10/dist-packages (from langchain) (0.1.14)\n",
            "Requirement already satisfied: numpy<2,>=1 in /usr/local/lib/python3.10/dist-packages (from langchain) (1.25.2)\n",
            "Requirement already satisfied: pydantic<3,>=1 in /usr/local/lib/python3.10/dist-packages (from langchain) (2.6.3)\n",
            "Requirement already satisfied: requests<3,>=2 in /usr/local/lib/python3.10/dist-packages (from langchain) (2.31.0)\n",
            "Requirement already satisfied: tenacity<9.0.0,>=8.1.0 in /usr/local/lib/python3.10/dist-packages (from langchain) (8.2.3)\n",
            "Requirement already satisfied: anyio<5,>=3.5.0 in /usr/local/lib/python3.10/dist-packages (from openai) (3.7.1)\n",
            "Requirement already satisfied: distro<2,>=1.7.0 in /usr/lib/python3/dist-packages (from openai) (1.7.0)\n",
            "Collecting httpx<1,>=0.23.0 (from openai)\n",
            "  Downloading httpx-0.27.0-py3-none-any.whl (75 kB)\n",
            "\u001b[2K     \u001b[90m━━━━━━━━━━━━━━━━━━━━━━━━━━━━━━━━━━━━━━━━\u001b[0m \u001b[32m75.6/75.6 kB\u001b[0m \u001b[31m10.2 MB/s\u001b[0m eta \u001b[36m0:00:00\u001b[0m\n",
            "\u001b[?25hRequirement already satisfied: sniffio in /usr/local/lib/python3.10/dist-packages (from openai) (1.3.1)\n",
            "Requirement already satisfied: tqdm>4 in /usr/local/lib/python3.10/dist-packages (from openai) (4.66.2)\n",
            "Requirement already satisfied: typing-extensions<5,>=4.7 in /usr/local/lib/python3.10/dist-packages (from openai) (4.10.0)\n",
            "Collecting tiktoken<1,>=0.5.2 (from langchain-openai)\n",
            "  Downloading tiktoken-0.6.0-cp310-cp310-manylinux_2_17_x86_64.manylinux2014_x86_64.whl (1.8 MB)\n",
            "\u001b[2K     \u001b[90m━━━━━━━━━━━━━━━━━━━━━━━━━━━━━━━━━━━━━━━━\u001b[0m \u001b[32m1.8/1.8 MB\u001b[0m \u001b[31m28.7 MB/s\u001b[0m eta \u001b[36m0:00:00\u001b[0m\n",
            "\u001b[?25hRequirement already satisfied: aiosignal>=1.1.2 in /usr/local/lib/python3.10/dist-packages (from aiohttp<4.0.0,>=3.8.3->langchain) (1.3.1)\n",
            "Requirement already satisfied: attrs>=17.3.0 in /usr/local/lib/python3.10/dist-packages (from aiohttp<4.0.0,>=3.8.3->langchain) (23.2.0)\n",
            "Requirement already satisfied: frozenlist>=1.1.1 in /usr/local/lib/python3.10/dist-packages (from aiohttp<4.0.0,>=3.8.3->langchain) (1.4.1)\n",
            "Requirement already satisfied: multidict<7.0,>=4.5 in /usr/local/lib/python3.10/dist-packages (from aiohttp<4.0.0,>=3.8.3->langchain) (6.0.5)\n",
            "Requirement already satisfied: yarl<2.0,>=1.0 in /usr/local/lib/python3.10/dist-packages (from aiohttp<4.0.0,>=3.8.3->langchain) (1.9.4)\n",
            "Requirement already satisfied: idna>=2.8 in /usr/local/lib/python3.10/dist-packages (from anyio<5,>=3.5.0->openai) (3.6)\n",
            "Requirement already satisfied: exceptiongroup in /usr/local/lib/python3.10/dist-packages (from anyio<5,>=3.5.0->openai) (1.2.0)\n",
            "Requirement already satisfied: marshmallow<4.0.0,>=3.18.0 in /usr/local/lib/python3.10/dist-packages (from dataclasses-json<0.7,>=0.5.7->langchain) (3.21.0)\n",
            "Requirement already satisfied: typing-inspect<1,>=0.4.0 in /usr/local/lib/python3.10/dist-packages (from dataclasses-json<0.7,>=0.5.7->langchain) (0.9.0)\n",
            "Requirement already satisfied: certifi in /usr/local/lib/python3.10/dist-packages (from httpx<1,>=0.23.0->openai) (2024.2.2)\n",
            "Collecting httpcore==1.* (from httpx<1,>=0.23.0->openai)\n",
            "  Downloading httpcore-1.0.4-py3-none-any.whl (77 kB)\n",
            "\u001b[2K     \u001b[90m━━━━━━━━━━━━━━━━━━━━━━━━━━━━━━━━━━━━━━━━\u001b[0m \u001b[32m77.8/77.8 kB\u001b[0m \u001b[31m9.2 MB/s\u001b[0m eta \u001b[36m0:00:00\u001b[0m\n",
            "\u001b[?25hCollecting h11<0.15,>=0.13 (from httpcore==1.*->httpx<1,>=0.23.0->openai)\n",
            "  Downloading h11-0.14.0-py3-none-any.whl (58 kB)\n",
            "\u001b[2K     \u001b[90m━━━━━━━━━━━━━━━━━━━━━━━━━━━━━━━━━━━━━━━━\u001b[0m \u001b[32m58.3/58.3 kB\u001b[0m \u001b[31m7.5 MB/s\u001b[0m eta \u001b[36m0:00:00\u001b[0m\n",
            "\u001b[?25hRequirement already satisfied: jsonpointer>=1.9 in /usr/local/lib/python3.10/dist-packages (from jsonpatch<2.0,>=1.33->langchain) (2.4)\n",
            "Requirement already satisfied: packaging<24.0,>=23.2 in /usr/local/lib/python3.10/dist-packages (from langchain-core<0.2,>=0.1.28->langchain) (23.2)\n",
            "Requirement already satisfied: orjson<4.0.0,>=3.9.14 in /usr/local/lib/python3.10/dist-packages (from langsmith<0.2.0,>=0.1.0->langchain) (3.9.15)\n",
            "Requirement already satisfied: annotated-types>=0.4.0 in /usr/local/lib/python3.10/dist-packages (from pydantic<3,>=1->langchain) (0.6.0)\n",
            "Requirement already satisfied: pydantic-core==2.16.3 in /usr/local/lib/python3.10/dist-packages (from pydantic<3,>=1->langchain) (2.16.3)\n",
            "Requirement already satisfied: charset-normalizer<4,>=2 in /usr/local/lib/python3.10/dist-packages (from requests<3,>=2->langchain) (3.3.2)\n",
            "Requirement already satisfied: urllib3<3,>=1.21.1 in /usr/local/lib/python3.10/dist-packages (from requests<3,>=2->langchain) (2.0.7)\n",
            "Requirement already satisfied: greenlet!=0.4.17 in /usr/local/lib/python3.10/dist-packages (from SQLAlchemy<3,>=1.4->langchain) (3.0.3)\n",
            "Requirement already satisfied: regex>=2022.1.18 in /usr/local/lib/python3.10/dist-packages (from tiktoken<1,>=0.5.2->langchain-openai) (2023.12.25)\n",
            "Requirement already satisfied: mypy-extensions>=0.3.0 in /usr/local/lib/python3.10/dist-packages (from typing-inspect<1,>=0.4.0->dataclasses-json<0.7,>=0.5.7->langchain) (1.0.0)\n",
            "Installing collected packages: h11, tiktoken, httpcore, httpx, openai, langchain-text-splitters, langchain-openai, langchain\n",
            "Successfully installed h11-0.14.0 httpcore-1.0.4 httpx-0.27.0 langchain-0.1.10 langchain-openai-0.0.8 langchain-text-splitters-0.0.1 openai-1.13.3 tiktoken-0.6.0\n",
            "time: 10.7 s (started: 2024-03-04 08:19:36 +00:00)\n"
          ]
        }
      ]
    },
    {
      "cell_type": "code",
      "source": [
        "import os\n",
        "import openai\n",
        "import getpass"
      ],
      "metadata": {
        "id": "FUNCgiARRD15",
        "colab": {
          "base_uri": "https://localhost:8080/"
        },
        "outputId": "9550d849-476c-4239-e6f6-2e1341bc457a"
      },
      "execution_count": null,
      "outputs": [
        {
          "output_type": "stream",
          "name": "stdout",
          "text": [
            "time: 433 ms (started: 2024-03-04 08:19:51 +00:00)\n"
          ]
        }
      ]
    },
    {
      "cell_type": "code",
      "source": [
        "openai_key = getpass.getpass(\"OpenAI API Key:\")\n",
        "os.environ[\"OPENAI_API_KEY\"] = openai_key\n",
        "openai.api_key = openai_key"
      ],
      "metadata": {
        "colab": {
          "base_uri": "https://localhost:8080/"
        },
        "id": "vu4WW10-u3_U",
        "outputId": "73a6e3b4-6f37-40dd-854c-820d96554f0b"
      },
      "execution_count": null,
      "outputs": [
        {
          "output_type": "stream",
          "name": "stdout",
          "text": [
            "OpenAI API Key:··········\n",
            "time: 23.8 s (started: 2024-03-04 08:19:53 +00:00)\n"
          ]
        }
      ]
    },
    {
      "cell_type": "markdown",
      "source": [
        "### create_extraction_chain"
      ],
      "metadata": {
        "id": "aD291x24kxnX"
      }
    },
    {
      "cell_type": "code",
      "source": [
        "from langchain.chains import create_extraction_chain\n",
        "from langchain_openai import ChatOpenAI\n",
        "import time\n",
        "import pandas as pd"
      ],
      "metadata": {
        "id": "q-FBoQOaPbfm",
        "colab": {
          "base_uri": "https://localhost:8080/"
        },
        "outputId": "f3799969-eff0-4ed5-bf0a-2b3f12c24e7c"
      },
      "execution_count": null,
      "outputs": [
        {
          "output_type": "stream",
          "name": "stdout",
          "text": [
            "time: 1.5 s (started: 2024-03-04 08:20:21 +00:00)\n"
          ]
        }
      ]
    },
    {
      "cell_type": "code",
      "source": [
        "schema = {\n",
        "          \"properties\": {\n",
        "              \"Товар\": {\"type\": \"string\"},\n",
        "              \"Год изготовления\": {\"type\": \"string\"},\n",
        "              \"Гарантийный срок\": {\"type\": \"string\"},\n",
        "              \"Количество\": {\"type\": \"string\"},\n",
        "                        },\n",
        "          \"required\": [\"Товар\", \"Год изготовления\", \"Гарантийный срок\", \"Количество\"],\n",
        "         }\n"
      ],
      "metadata": {
        "id": "XEvlTwq6SW3C",
        "colab": {
          "base_uri": "https://localhost:8080/"
        },
        "outputId": "1d423db4-ef4d-476e-c3e7-015b14d0f04b"
      },
      "execution_count": null,
      "outputs": [
        {
          "output_type": "stream",
          "name": "stdout",
          "text": [
            "time: 711 µs (started: 2024-03-04 08:20:25 +00:00)\n"
          ]
        }
      ]
    },
    {
      "cell_type": "code",
      "source": [
        "llm = ChatOpenAI(temperature=0, model=\"gpt-3.5-turbo\")\n",
        "chain = create_extraction_chain(schema, llm)\n",
        "extract_list = []\n",
        "for n, document in enumerate(all_doc_documents):\n",
        "    try:\n",
        "        time.sleep(20)\n",
        "        extract_text = chain.invoke(document.page_content)\n",
        "        for i in range(len(extract_text['text'])):\n",
        "            extract_text['text'][i].update(document.metadata)\n",
        "        extract_list.append(extract_text)\n",
        "    except:\n",
        "        print(f'Документ {n} не распознан.')"
      ],
      "metadata": {
        "colab": {
          "base_uri": "https://localhost:8080/"
        },
        "id": "Vzft3gYeOnnQ",
        "outputId": "55142c8d-92fe-4dbe-c521-6cf3f83e3037"
      },
      "execution_count": null,
      "outputs": [
        {
          "output_type": "stream",
          "name": "stdout",
          "text": [
            "Документ 1 не распознан.\n",
            "time: 1min 42s (started: 2024-03-04 08:20:28 +00:00)\n"
          ]
        }
      ]
    },
    {
      "cell_type": "code",
      "source": [
        "line_list = [sublist[item] for sublist in extract_list for item in sublist if item == 'text']\n",
        "flat_list = [item for sublist in line_list for item in sublist]\n",
        "df = pd.DataFrame(flat_list)\n",
        "df"
      ],
      "metadata": {
        "id": "kCHU3Pt2seWk",
        "colab": {
          "base_uri": "https://localhost:8080/",
          "height": 1000
        },
        "outputId": "77599a98-7318-4a58-a78b-1ca729bac617"
      },
      "execution_count": null,
      "outputs": [
        {
          "output_type": "execute_result",
          "data": {
            "text/plain": [
              "                                                Товар  Количество  \\\n",
              "0                                  Футболка х/б белая       42 шт   \n",
              "1                            Футболка х/б васильковая       36 шт   \n",
              "2                                Футболка х/б красная       60 шт   \n",
              "3                                 Футболка х/б черная       44 шт   \n",
              "4                       Футболка х/б зеленая (темная)       42 шт   \n",
              "5                               Бейсболка велюр белая  ONESIZE шт   \n",
              "6                    Бейсболка велюр красная (темная)  ONESIZE шт   \n",
              "7                 Бейсболка велюр синяя (васильковая)  ONESIZE шт   \n",
              "8                    Бейсболка велюр зеленая (темная)  ONESIZE шт   \n",
              "9                  Объекты капитального строительства               \n",
              "10  Инженерная инфраструктура: кабельная канализац...               \n",
              "11                Объекты транспортной инфраструктуры               \n",
              "12             Автомобильная дорога от УПК15 до УПК16               \n",
              "13                                              Гетры          10   \n",
              "14                                       Майка игрока          12   \n",
              "15                                        Наколенники           5   \n",
              "16                                        Наколенники           5   \n",
              "17                                        Налокотники          10   \n",
              "18                                          Наплечник           3   \n",
              "19                                          Наплечник           5   \n",
              "20                                          Наплечник           2   \n",
              "21                                  Наплечник вратаря           1   \n",
              "22                                              Трусы           3   \n",
              "23                                              Трусы           5   \n",
              "24                                              Трусы           2   \n",
              "25                                      Трусы вратаря           2   \n",
              "26                Нательное белье (брюки с раковиной)           3   \n",
              "27                Нательное белье (брюки с раковиной)           5   \n",
              "28                Нательное белье (брюки с раковиной)           1   \n",
              "29                Нательное белье (брюки с раковиной)           1   \n",
              "30                                               Шлем          10   \n",
              "31                                       Шлем вратаря           2   \n",
              "32                                      Щитки вратаря           1   \n",
              "33                                           Перчатки          10   \n",
              "34                                  Клюшка для хоккея           1   \n",
              "35                                  Клюшка для хоккея          10   \n",
              "36                                   Коньки хоккейные           1   \n",
              "37                                   Коньки хоккейные           1   \n",
              "38                                   Коньки хоккейные           1   \n",
              "\n",
              "                               source Год изготовления Гарантийный срок  \n",
              "0   ./docs/1087300000923000020_0.docx              NaN              NaN  \n",
              "1   ./docs/1087300000923000020_0.docx              NaN              NaN  \n",
              "2   ./docs/1087300000923000020_0.docx              NaN              NaN  \n",
              "3   ./docs/1087300000923000020_0.docx              NaN              NaN  \n",
              "4   ./docs/1087300000923000020_0.docx              NaN              NaN  \n",
              "5   ./docs/1087300000923000020_0.docx              NaN              NaN  \n",
              "6   ./docs/1087300000923000020_0.docx              NaN              NaN  \n",
              "7   ./docs/1087300000923000020_0.docx              NaN              NaN  \n",
              "8   ./docs/1087300000923000020_0.docx              NaN              NaN  \n",
              "9   ./docs/2025500000123000013_0.docx                                    \n",
              "10  ./docs/2025500000123000013_0.docx                                    \n",
              "11  ./docs/2025500000123000013_0.docx                                    \n",
              "12  ./docs/2025500000123000013_0.docx                                    \n",
              "13  ./docs/9800600000423000056_0.docx              NaN              NaN  \n",
              "14  ./docs/9800600000423000056_0.docx              NaN              NaN  \n",
              "15  ./docs/9800600000423000056_0.docx              NaN              NaN  \n",
              "16  ./docs/9800600000423000056_0.docx              NaN              NaN  \n",
              "17  ./docs/9800600000423000056_0.docx              NaN              NaN  \n",
              "18  ./docs/9800600000423000056_0.docx              NaN              NaN  \n",
              "19  ./docs/9800600000423000056_0.docx              NaN              NaN  \n",
              "20  ./docs/9800600000423000056_0.docx              NaN              NaN  \n",
              "21  ./docs/9800600000423000056_0.docx              NaN              NaN  \n",
              "22  ./docs/9800600000423000056_0.docx              NaN              NaN  \n",
              "23  ./docs/9800600000423000056_0.docx              NaN              NaN  \n",
              "24  ./docs/9800600000423000056_0.docx              NaN              NaN  \n",
              "25  ./docs/9800600000423000056_0.docx              NaN              NaN  \n",
              "26  ./docs/9800600000423000056_0.docx              NaN              NaN  \n",
              "27  ./docs/9800600000423000056_0.docx              NaN              NaN  \n",
              "28  ./docs/9800600000423000056_0.docx              NaN              NaN  \n",
              "29  ./docs/9800600000423000056_0.docx              NaN              NaN  \n",
              "30  ./docs/9800600000423000056_0.docx              NaN              NaN  \n",
              "31  ./docs/9800600000423000056_0.docx              NaN              NaN  \n",
              "32  ./docs/9800600000423000056_0.docx              NaN              NaN  \n",
              "33  ./docs/9800600000423000056_0.docx              NaN              NaN  \n",
              "34  ./docs/9800600000423000056_0.docx              NaN              NaN  \n",
              "35  ./docs/9800600000423000056_0.docx              NaN              NaN  \n",
              "36  ./docs/9800600000423000056_0.docx              NaN              NaN  \n",
              "37  ./docs/9800600000423000056_0.docx              NaN              NaN  \n",
              "38  ./docs/9800600000423000056_0.docx              NaN              NaN  "
            ],
            "text/html": [
              "\n",
              "  <div id=\"df-38ace6ed-8bce-45c6-9c84-e8cb6a3a5842\" class=\"colab-df-container\">\n",
              "    <div>\n",
              "<style scoped>\n",
              "    .dataframe tbody tr th:only-of-type {\n",
              "        vertical-align: middle;\n",
              "    }\n",
              "\n",
              "    .dataframe tbody tr th {\n",
              "        vertical-align: top;\n",
              "    }\n",
              "\n",
              "    .dataframe thead th {\n",
              "        text-align: right;\n",
              "    }\n",
              "</style>\n",
              "<table border=\"1\" class=\"dataframe\">\n",
              "  <thead>\n",
              "    <tr style=\"text-align: right;\">\n",
              "      <th></th>\n",
              "      <th>Товар</th>\n",
              "      <th>Количество</th>\n",
              "      <th>source</th>\n",
              "      <th>Год изготовления</th>\n",
              "      <th>Гарантийный срок</th>\n",
              "    </tr>\n",
              "  </thead>\n",
              "  <tbody>\n",
              "    <tr>\n",
              "      <th>0</th>\n",
              "      <td>Футболка х/б белая</td>\n",
              "      <td>42 шт</td>\n",
              "      <td>./docs/1087300000923000020_0.docx</td>\n",
              "      <td>NaN</td>\n",
              "      <td>NaN</td>\n",
              "    </tr>\n",
              "    <tr>\n",
              "      <th>1</th>\n",
              "      <td>Футболка х/б васильковая</td>\n",
              "      <td>36 шт</td>\n",
              "      <td>./docs/1087300000923000020_0.docx</td>\n",
              "      <td>NaN</td>\n",
              "      <td>NaN</td>\n",
              "    </tr>\n",
              "    <tr>\n",
              "      <th>2</th>\n",
              "      <td>Футболка х/б красная</td>\n",
              "      <td>60 шт</td>\n",
              "      <td>./docs/1087300000923000020_0.docx</td>\n",
              "      <td>NaN</td>\n",
              "      <td>NaN</td>\n",
              "    </tr>\n",
              "    <tr>\n",
              "      <th>3</th>\n",
              "      <td>Футболка х/б черная</td>\n",
              "      <td>44 шт</td>\n",
              "      <td>./docs/1087300000923000020_0.docx</td>\n",
              "      <td>NaN</td>\n",
              "      <td>NaN</td>\n",
              "    </tr>\n",
              "    <tr>\n",
              "      <th>4</th>\n",
              "      <td>Футболка х/б зеленая (темная)</td>\n",
              "      <td>42 шт</td>\n",
              "      <td>./docs/1087300000923000020_0.docx</td>\n",
              "      <td>NaN</td>\n",
              "      <td>NaN</td>\n",
              "    </tr>\n",
              "    <tr>\n",
              "      <th>5</th>\n",
              "      <td>Бейсболка велюр белая</td>\n",
              "      <td>ONESIZE шт</td>\n",
              "      <td>./docs/1087300000923000020_0.docx</td>\n",
              "      <td>NaN</td>\n",
              "      <td>NaN</td>\n",
              "    </tr>\n",
              "    <tr>\n",
              "      <th>6</th>\n",
              "      <td>Бейсболка велюр красная (темная)</td>\n",
              "      <td>ONESIZE шт</td>\n",
              "      <td>./docs/1087300000923000020_0.docx</td>\n",
              "      <td>NaN</td>\n",
              "      <td>NaN</td>\n",
              "    </tr>\n",
              "    <tr>\n",
              "      <th>7</th>\n",
              "      <td>Бейсболка велюр синяя (васильковая)</td>\n",
              "      <td>ONESIZE шт</td>\n",
              "      <td>./docs/1087300000923000020_0.docx</td>\n",
              "      <td>NaN</td>\n",
              "      <td>NaN</td>\n",
              "    </tr>\n",
              "    <tr>\n",
              "      <th>8</th>\n",
              "      <td>Бейсболка велюр зеленая (темная)</td>\n",
              "      <td>ONESIZE шт</td>\n",
              "      <td>./docs/1087300000923000020_0.docx</td>\n",
              "      <td>NaN</td>\n",
              "      <td>NaN</td>\n",
              "    </tr>\n",
              "    <tr>\n",
              "      <th>9</th>\n",
              "      <td>Объекты капитального строительства</td>\n",
              "      <td></td>\n",
              "      <td>./docs/2025500000123000013_0.docx</td>\n",
              "      <td></td>\n",
              "      <td></td>\n",
              "    </tr>\n",
              "    <tr>\n",
              "      <th>10</th>\n",
              "      <td>Инженерная инфраструктура: кабельная канализац...</td>\n",
              "      <td></td>\n",
              "      <td>./docs/2025500000123000013_0.docx</td>\n",
              "      <td></td>\n",
              "      <td></td>\n",
              "    </tr>\n",
              "    <tr>\n",
              "      <th>11</th>\n",
              "      <td>Объекты транспортной инфраструктуры</td>\n",
              "      <td></td>\n",
              "      <td>./docs/2025500000123000013_0.docx</td>\n",
              "      <td></td>\n",
              "      <td></td>\n",
              "    </tr>\n",
              "    <tr>\n",
              "      <th>12</th>\n",
              "      <td>Автомобильная дорога от УПК15 до УПК16</td>\n",
              "      <td></td>\n",
              "      <td>./docs/2025500000123000013_0.docx</td>\n",
              "      <td></td>\n",
              "      <td></td>\n",
              "    </tr>\n",
              "    <tr>\n",
              "      <th>13</th>\n",
              "      <td>Гетры</td>\n",
              "      <td>10</td>\n",
              "      <td>./docs/9800600000423000056_0.docx</td>\n",
              "      <td>NaN</td>\n",
              "      <td>NaN</td>\n",
              "    </tr>\n",
              "    <tr>\n",
              "      <th>14</th>\n",
              "      <td>Майка игрока</td>\n",
              "      <td>12</td>\n",
              "      <td>./docs/9800600000423000056_0.docx</td>\n",
              "      <td>NaN</td>\n",
              "      <td>NaN</td>\n",
              "    </tr>\n",
              "    <tr>\n",
              "      <th>15</th>\n",
              "      <td>Наколенники</td>\n",
              "      <td>5</td>\n",
              "      <td>./docs/9800600000423000056_0.docx</td>\n",
              "      <td>NaN</td>\n",
              "      <td>NaN</td>\n",
              "    </tr>\n",
              "    <tr>\n",
              "      <th>16</th>\n",
              "      <td>Наколенники</td>\n",
              "      <td>5</td>\n",
              "      <td>./docs/9800600000423000056_0.docx</td>\n",
              "      <td>NaN</td>\n",
              "      <td>NaN</td>\n",
              "    </tr>\n",
              "    <tr>\n",
              "      <th>17</th>\n",
              "      <td>Налокотники</td>\n",
              "      <td>10</td>\n",
              "      <td>./docs/9800600000423000056_0.docx</td>\n",
              "      <td>NaN</td>\n",
              "      <td>NaN</td>\n",
              "    </tr>\n",
              "    <tr>\n",
              "      <th>18</th>\n",
              "      <td>Наплечник</td>\n",
              "      <td>3</td>\n",
              "      <td>./docs/9800600000423000056_0.docx</td>\n",
              "      <td>NaN</td>\n",
              "      <td>NaN</td>\n",
              "    </tr>\n",
              "    <tr>\n",
              "      <th>19</th>\n",
              "      <td>Наплечник</td>\n",
              "      <td>5</td>\n",
              "      <td>./docs/9800600000423000056_0.docx</td>\n",
              "      <td>NaN</td>\n",
              "      <td>NaN</td>\n",
              "    </tr>\n",
              "    <tr>\n",
              "      <th>20</th>\n",
              "      <td>Наплечник</td>\n",
              "      <td>2</td>\n",
              "      <td>./docs/9800600000423000056_0.docx</td>\n",
              "      <td>NaN</td>\n",
              "      <td>NaN</td>\n",
              "    </tr>\n",
              "    <tr>\n",
              "      <th>21</th>\n",
              "      <td>Наплечник вратаря</td>\n",
              "      <td>1</td>\n",
              "      <td>./docs/9800600000423000056_0.docx</td>\n",
              "      <td>NaN</td>\n",
              "      <td>NaN</td>\n",
              "    </tr>\n",
              "    <tr>\n",
              "      <th>22</th>\n",
              "      <td>Трусы</td>\n",
              "      <td>3</td>\n",
              "      <td>./docs/9800600000423000056_0.docx</td>\n",
              "      <td>NaN</td>\n",
              "      <td>NaN</td>\n",
              "    </tr>\n",
              "    <tr>\n",
              "      <th>23</th>\n",
              "      <td>Трусы</td>\n",
              "      <td>5</td>\n",
              "      <td>./docs/9800600000423000056_0.docx</td>\n",
              "      <td>NaN</td>\n",
              "      <td>NaN</td>\n",
              "    </tr>\n",
              "    <tr>\n",
              "      <th>24</th>\n",
              "      <td>Трусы</td>\n",
              "      <td>2</td>\n",
              "      <td>./docs/9800600000423000056_0.docx</td>\n",
              "      <td>NaN</td>\n",
              "      <td>NaN</td>\n",
              "    </tr>\n",
              "    <tr>\n",
              "      <th>25</th>\n",
              "      <td>Трусы вратаря</td>\n",
              "      <td>2</td>\n",
              "      <td>./docs/9800600000423000056_0.docx</td>\n",
              "      <td>NaN</td>\n",
              "      <td>NaN</td>\n",
              "    </tr>\n",
              "    <tr>\n",
              "      <th>26</th>\n",
              "      <td>Нательное белье (брюки с раковиной)</td>\n",
              "      <td>3</td>\n",
              "      <td>./docs/9800600000423000056_0.docx</td>\n",
              "      <td>NaN</td>\n",
              "      <td>NaN</td>\n",
              "    </tr>\n",
              "    <tr>\n",
              "      <th>27</th>\n",
              "      <td>Нательное белье (брюки с раковиной)</td>\n",
              "      <td>5</td>\n",
              "      <td>./docs/9800600000423000056_0.docx</td>\n",
              "      <td>NaN</td>\n",
              "      <td>NaN</td>\n",
              "    </tr>\n",
              "    <tr>\n",
              "      <th>28</th>\n",
              "      <td>Нательное белье (брюки с раковиной)</td>\n",
              "      <td>1</td>\n",
              "      <td>./docs/9800600000423000056_0.docx</td>\n",
              "      <td>NaN</td>\n",
              "      <td>NaN</td>\n",
              "    </tr>\n",
              "    <tr>\n",
              "      <th>29</th>\n",
              "      <td>Нательное белье (брюки с раковиной)</td>\n",
              "      <td>1</td>\n",
              "      <td>./docs/9800600000423000056_0.docx</td>\n",
              "      <td>NaN</td>\n",
              "      <td>NaN</td>\n",
              "    </tr>\n",
              "    <tr>\n",
              "      <th>30</th>\n",
              "      <td>Шлем</td>\n",
              "      <td>10</td>\n",
              "      <td>./docs/9800600000423000056_0.docx</td>\n",
              "      <td>NaN</td>\n",
              "      <td>NaN</td>\n",
              "    </tr>\n",
              "    <tr>\n",
              "      <th>31</th>\n",
              "      <td>Шлем вратаря</td>\n",
              "      <td>2</td>\n",
              "      <td>./docs/9800600000423000056_0.docx</td>\n",
              "      <td>NaN</td>\n",
              "      <td>NaN</td>\n",
              "    </tr>\n",
              "    <tr>\n",
              "      <th>32</th>\n",
              "      <td>Щитки вратаря</td>\n",
              "      <td>1</td>\n",
              "      <td>./docs/9800600000423000056_0.docx</td>\n",
              "      <td>NaN</td>\n",
              "      <td>NaN</td>\n",
              "    </tr>\n",
              "    <tr>\n",
              "      <th>33</th>\n",
              "      <td>Перчатки</td>\n",
              "      <td>10</td>\n",
              "      <td>./docs/9800600000423000056_0.docx</td>\n",
              "      <td>NaN</td>\n",
              "      <td>NaN</td>\n",
              "    </tr>\n",
              "    <tr>\n",
              "      <th>34</th>\n",
              "      <td>Клюшка для хоккея</td>\n",
              "      <td>1</td>\n",
              "      <td>./docs/9800600000423000056_0.docx</td>\n",
              "      <td>NaN</td>\n",
              "      <td>NaN</td>\n",
              "    </tr>\n",
              "    <tr>\n",
              "      <th>35</th>\n",
              "      <td>Клюшка для хоккея</td>\n",
              "      <td>10</td>\n",
              "      <td>./docs/9800600000423000056_0.docx</td>\n",
              "      <td>NaN</td>\n",
              "      <td>NaN</td>\n",
              "    </tr>\n",
              "    <tr>\n",
              "      <th>36</th>\n",
              "      <td>Коньки хоккейные</td>\n",
              "      <td>1</td>\n",
              "      <td>./docs/9800600000423000056_0.docx</td>\n",
              "      <td>NaN</td>\n",
              "      <td>NaN</td>\n",
              "    </tr>\n",
              "    <tr>\n",
              "      <th>37</th>\n",
              "      <td>Коньки хоккейные</td>\n",
              "      <td>1</td>\n",
              "      <td>./docs/9800600000423000056_0.docx</td>\n",
              "      <td>NaN</td>\n",
              "      <td>NaN</td>\n",
              "    </tr>\n",
              "    <tr>\n",
              "      <th>38</th>\n",
              "      <td>Коньки хоккейные</td>\n",
              "      <td>1</td>\n",
              "      <td>./docs/9800600000423000056_0.docx</td>\n",
              "      <td>NaN</td>\n",
              "      <td>NaN</td>\n",
              "    </tr>\n",
              "  </tbody>\n",
              "</table>\n",
              "</div>\n",
              "    <div class=\"colab-df-buttons\">\n",
              "\n",
              "  <div class=\"colab-df-container\">\n",
              "    <button class=\"colab-df-convert\" onclick=\"convertToInteractive('df-38ace6ed-8bce-45c6-9c84-e8cb6a3a5842')\"\n",
              "            title=\"Convert this dataframe to an interactive table.\"\n",
              "            style=\"display:none;\">\n",
              "\n",
              "  <svg xmlns=\"http://www.w3.org/2000/svg\" height=\"24px\" viewBox=\"0 -960 960 960\">\n",
              "    <path d=\"M120-120v-720h720v720H120Zm60-500h600v-160H180v160Zm220 220h160v-160H400v160Zm0 220h160v-160H400v160ZM180-400h160v-160H180v160Zm440 0h160v-160H620v160ZM180-180h160v-160H180v160Zm440 0h160v-160H620v160Z\"/>\n",
              "  </svg>\n",
              "    </button>\n",
              "\n",
              "  <style>\n",
              "    .colab-df-container {\n",
              "      display:flex;\n",
              "      gap: 12px;\n",
              "    }\n",
              "\n",
              "    .colab-df-convert {\n",
              "      background-color: #E8F0FE;\n",
              "      border: none;\n",
              "      border-radius: 50%;\n",
              "      cursor: pointer;\n",
              "      display: none;\n",
              "      fill: #1967D2;\n",
              "      height: 32px;\n",
              "      padding: 0 0 0 0;\n",
              "      width: 32px;\n",
              "    }\n",
              "\n",
              "    .colab-df-convert:hover {\n",
              "      background-color: #E2EBFA;\n",
              "      box-shadow: 0px 1px 2px rgba(60, 64, 67, 0.3), 0px 1px 3px 1px rgba(60, 64, 67, 0.15);\n",
              "      fill: #174EA6;\n",
              "    }\n",
              "\n",
              "    .colab-df-buttons div {\n",
              "      margin-bottom: 4px;\n",
              "    }\n",
              "\n",
              "    [theme=dark] .colab-df-convert {\n",
              "      background-color: #3B4455;\n",
              "      fill: #D2E3FC;\n",
              "    }\n",
              "\n",
              "    [theme=dark] .colab-df-convert:hover {\n",
              "      background-color: #434B5C;\n",
              "      box-shadow: 0px 1px 3px 1px rgba(0, 0, 0, 0.15);\n",
              "      filter: drop-shadow(0px 1px 2px rgba(0, 0, 0, 0.3));\n",
              "      fill: #FFFFFF;\n",
              "    }\n",
              "  </style>\n",
              "\n",
              "    <script>\n",
              "      const buttonEl =\n",
              "        document.querySelector('#df-38ace6ed-8bce-45c6-9c84-e8cb6a3a5842 button.colab-df-convert');\n",
              "      buttonEl.style.display =\n",
              "        google.colab.kernel.accessAllowed ? 'block' : 'none';\n",
              "\n",
              "      async function convertToInteractive(key) {\n",
              "        const element = document.querySelector('#df-38ace6ed-8bce-45c6-9c84-e8cb6a3a5842');\n",
              "        const dataTable =\n",
              "          await google.colab.kernel.invokeFunction('convertToInteractive',\n",
              "                                                    [key], {});\n",
              "        if (!dataTable) return;\n",
              "\n",
              "        const docLinkHtml = 'Like what you see? Visit the ' +\n",
              "          '<a target=\"_blank\" href=https://colab.research.google.com/notebooks/data_table.ipynb>data table notebook</a>'\n",
              "          + ' to learn more about interactive tables.';\n",
              "        element.innerHTML = '';\n",
              "        dataTable['output_type'] = 'display_data';\n",
              "        await google.colab.output.renderOutput(dataTable, element);\n",
              "        const docLink = document.createElement('div');\n",
              "        docLink.innerHTML = docLinkHtml;\n",
              "        element.appendChild(docLink);\n",
              "      }\n",
              "    </script>\n",
              "  </div>\n",
              "\n",
              "\n",
              "<div id=\"df-a958f8a8-56bd-48f5-99a8-ecf67eecf7e9\">\n",
              "  <button class=\"colab-df-quickchart\" onclick=\"quickchart('df-a958f8a8-56bd-48f5-99a8-ecf67eecf7e9')\"\n",
              "            title=\"Suggest charts\"\n",
              "            style=\"display:none;\">\n",
              "\n",
              "<svg xmlns=\"http://www.w3.org/2000/svg\" height=\"24px\"viewBox=\"0 0 24 24\"\n",
              "     width=\"24px\">\n",
              "    <g>\n",
              "        <path d=\"M19 3H5c-1.1 0-2 .9-2 2v14c0 1.1.9 2 2 2h14c1.1 0 2-.9 2-2V5c0-1.1-.9-2-2-2zM9 17H7v-7h2v7zm4 0h-2V7h2v10zm4 0h-2v-4h2v4z\"/>\n",
              "    </g>\n",
              "</svg>\n",
              "  </button>\n",
              "\n",
              "<style>\n",
              "  .colab-df-quickchart {\n",
              "      --bg-color: #E8F0FE;\n",
              "      --fill-color: #1967D2;\n",
              "      --hover-bg-color: #E2EBFA;\n",
              "      --hover-fill-color: #174EA6;\n",
              "      --disabled-fill-color: #AAA;\n",
              "      --disabled-bg-color: #DDD;\n",
              "  }\n",
              "\n",
              "  [theme=dark] .colab-df-quickchart {\n",
              "      --bg-color: #3B4455;\n",
              "      --fill-color: #D2E3FC;\n",
              "      --hover-bg-color: #434B5C;\n",
              "      --hover-fill-color: #FFFFFF;\n",
              "      --disabled-bg-color: #3B4455;\n",
              "      --disabled-fill-color: #666;\n",
              "  }\n",
              "\n",
              "  .colab-df-quickchart {\n",
              "    background-color: var(--bg-color);\n",
              "    border: none;\n",
              "    border-radius: 50%;\n",
              "    cursor: pointer;\n",
              "    display: none;\n",
              "    fill: var(--fill-color);\n",
              "    height: 32px;\n",
              "    padding: 0;\n",
              "    width: 32px;\n",
              "  }\n",
              "\n",
              "  .colab-df-quickchart:hover {\n",
              "    background-color: var(--hover-bg-color);\n",
              "    box-shadow: 0 1px 2px rgba(60, 64, 67, 0.3), 0 1px 3px 1px rgba(60, 64, 67, 0.15);\n",
              "    fill: var(--button-hover-fill-color);\n",
              "  }\n",
              "\n",
              "  .colab-df-quickchart-complete:disabled,\n",
              "  .colab-df-quickchart-complete:disabled:hover {\n",
              "    background-color: var(--disabled-bg-color);\n",
              "    fill: var(--disabled-fill-color);\n",
              "    box-shadow: none;\n",
              "  }\n",
              "\n",
              "  .colab-df-spinner {\n",
              "    border: 2px solid var(--fill-color);\n",
              "    border-color: transparent;\n",
              "    border-bottom-color: var(--fill-color);\n",
              "    animation:\n",
              "      spin 1s steps(1) infinite;\n",
              "  }\n",
              "\n",
              "  @keyframes spin {\n",
              "    0% {\n",
              "      border-color: transparent;\n",
              "      border-bottom-color: var(--fill-color);\n",
              "      border-left-color: var(--fill-color);\n",
              "    }\n",
              "    20% {\n",
              "      border-color: transparent;\n",
              "      border-left-color: var(--fill-color);\n",
              "      border-top-color: var(--fill-color);\n",
              "    }\n",
              "    30% {\n",
              "      border-color: transparent;\n",
              "      border-left-color: var(--fill-color);\n",
              "      border-top-color: var(--fill-color);\n",
              "      border-right-color: var(--fill-color);\n",
              "    }\n",
              "    40% {\n",
              "      border-color: transparent;\n",
              "      border-right-color: var(--fill-color);\n",
              "      border-top-color: var(--fill-color);\n",
              "    }\n",
              "    60% {\n",
              "      border-color: transparent;\n",
              "      border-right-color: var(--fill-color);\n",
              "    }\n",
              "    80% {\n",
              "      border-color: transparent;\n",
              "      border-right-color: var(--fill-color);\n",
              "      border-bottom-color: var(--fill-color);\n",
              "    }\n",
              "    90% {\n",
              "      border-color: transparent;\n",
              "      border-bottom-color: var(--fill-color);\n",
              "    }\n",
              "  }\n",
              "</style>\n",
              "\n",
              "  <script>\n",
              "    async function quickchart(key) {\n",
              "      const quickchartButtonEl =\n",
              "        document.querySelector('#' + key + ' button');\n",
              "      quickchartButtonEl.disabled = true;  // To prevent multiple clicks.\n",
              "      quickchartButtonEl.classList.add('colab-df-spinner');\n",
              "      try {\n",
              "        const charts = await google.colab.kernel.invokeFunction(\n",
              "            'suggestCharts', [key], {});\n",
              "      } catch (error) {\n",
              "        console.error('Error during call to suggestCharts:', error);\n",
              "      }\n",
              "      quickchartButtonEl.classList.remove('colab-df-spinner');\n",
              "      quickchartButtonEl.classList.add('colab-df-quickchart-complete');\n",
              "    }\n",
              "    (() => {\n",
              "      let quickchartButtonEl =\n",
              "        document.querySelector('#df-a958f8a8-56bd-48f5-99a8-ecf67eecf7e9 button');\n",
              "      quickchartButtonEl.style.display =\n",
              "        google.colab.kernel.accessAllowed ? 'block' : 'none';\n",
              "    })();\n",
              "  </script>\n",
              "</div>\n",
              "    </div>\n",
              "  </div>\n"
            ],
            "application/vnd.google.colaboratory.intrinsic+json": {
              "type": "dataframe",
              "variable_name": "df",
              "repr_error": "'str' object has no attribute 'empty'"
            }
          },
          "metadata": {},
          "execution_count": 26
        },
        {
          "output_type": "stream",
          "name": "stdout",
          "text": [
            "time: 38 ms (started: 2024-03-04 08:22:26 +00:00)\n"
          ]
        }
      ]
    },
    {
      "cell_type": "markdown",
      "source": [
        "### Черновики"
      ],
      "metadata": {
        "id": "dKYAO6CjEC5f"
      }
    },
    {
      "cell_type": "code",
      "source": [
        "extract_list[0]"
      ],
      "metadata": {
        "id": "z_9TPRzldxLl",
        "colab": {
          "base_uri": "https://localhost:8080/"
        },
        "outputId": "c9fb025d-0e2b-407f-ea38-4297105a8c2e"
      },
      "execution_count": null,
      "outputs": [
        {
          "output_type": "execute_result",
          "data": {
            "text/plain": [
              "{'input': '\\t\\t\\t                                     СПЕЦИФИКАЦИЯ\\n\\nПОСТАВЛЯЕМЫХ ТОВАРОВ\\n\\n№ Наименование товара Размер Ед.\\nизм. Количество Цена с НДС\\nРУБ Сумма с НДС\\nРУБ 1 Футболка х/б   белая Унисекс плотность материала не менее 160 г/м2 тип полотна- кулирная гладь не менее 92% хлопок не менее 8 % эластан предназначенная для нанесения рисунка методом шелкографии упаковка индивидуальная 42 шт 5 2 46 шт 20 3 48 шт 30 4 50 шт 30 5 52 шт 30 6 54 шт 15 7 56 шт 10 8 60 шт 7 9 Футболка х/б   васильковая Унисекс плотность материала не менее 160 г/м2 тип полотна- кулирная гладь не менее 92% хлопок не менее 8 % эластан предназначенная для нанесения рисунка методом шелкографии упаковка индивидуальная 36 шт 5 10 38 шт 5 11 40 шт 5 12 48 шт 5 13 50 шт 5 14 52 шт 5 15 56 шт 5 16 60 шт 3 17 Футболка х/б   красная Унисекс плотность материала не менее 160 г/м2 тип полотна- кулирная гладь не менее 92% хлопок не менее 8 % эластан предназначенная для нанесения рисунка методом шелкографии упаковка индивидуальная 60 шт 3 18 48 шт 5 19 Футболка х/б   черная Унисекс плотность материала не менее 160 г/м2 тип полотна- кулирная гладь не менее 92% хлопок не менее 8 % эластан предназначенная для нанесения рисунка методом шелкографии упаковка индивидуальная 44 шт 5 20 46 шт 10 21 48 шт 15 22 50 шт 15 23 52 шт 10 24 54 шт 10 25 60 шт 5 26 Футболка х/б   зеленая (темная) Унисекс плотность материала не менее 160 г/м2 тип полотна- кулирная гладь не менее 92% хлопок не менее 8 % эластан предназначенная для нанесения рисунка методом шелкографии упаковка индивидуальная 42 шт 5 27 46 шт 5 28 48 шт 5 29 52 шт 5 30 56 шт 5 31 60 шт 3 32 Бейсболка велюр белая Унисекс Состав: твил или 100% х/б Плотность: от 300 гр до 340 гр Застежка: Металлическая Размер: ONESIZE (регулируется) предназначенная для нанесения рисунка методом шелкографии упаковка индивидуальная ONESIZE шт 30 33 Бейсболка велюр красная (темная) Унисекс Состав: твил или 100% х/б Плотность: от 300 гр до 340 гр Застежка: Металлическая Размер: ONESIZE (регулируется) предназначенная для нанесения рисунка методом шелкографии упаковка индивидуальная ONESIZE шт 30 34 Бейсболка велюр синяя (васильковая) Унисекс Состав: твил или 100% х/б Плотность: от 300 гр до 340 гр Застежка: Металлическая Размер: ONESIZE (регулируется) предназначенная для нанесения рисунка методом шелкографии упаковка индивидуальная ONESIZE шт 30 35 Бейсболка велюр зеленая (темная) Унисекс Состав: твил или 100% х/б Плотность: от 300 гр до 340 гр Застежка: Металлическая Размер: ONESIZE (регулируется) предназначенная для нанесения рисунка методом шелкографии упаковка индивидуальная ONESIZE шт 30 ИТОГО: шт 411 Спецификация содержит: тридцать пять наименований Сумма НДС/ Без НДС  (20%) Всего НДС',\n",
              " 'text': [{'Товар': 'Футболка х/б белая',\n",
              "   'Количество': '42 шт',\n",
              "   'source': './docs/1087300000923000020_0.docx'},\n",
              "  {'Товар': 'Футболка х/б васильковая',\n",
              "   'Количество': '36 шт',\n",
              "   'source': './docs/1087300000923000020_0.docx'},\n",
              "  {'Товар': 'Футболка х/б красная',\n",
              "   'Количество': '60 шт',\n",
              "   'source': './docs/1087300000923000020_0.docx'},\n",
              "  {'Товар': 'Футболка х/б черная',\n",
              "   'Количество': '44 шт',\n",
              "   'source': './docs/1087300000923000020_0.docx'},\n",
              "  {'Товар': 'Футболка х/б зеленая (темная)',\n",
              "   'Количество': '42 шт',\n",
              "   'source': './docs/1087300000923000020_0.docx'},\n",
              "  {'Товар': 'Бейсболка велюр белая',\n",
              "   'Количество': 'ONESIZE шт',\n",
              "   'source': './docs/1087300000923000020_0.docx'},\n",
              "  {'Товар': 'Бейсболка велюр красная (темная)',\n",
              "   'Количество': 'ONESIZE шт',\n",
              "   'source': './docs/1087300000923000020_0.docx'},\n",
              "  {'Товар': 'Бейсболка велюр синяя (васильковая)',\n",
              "   'Количество': 'ONESIZE шт',\n",
              "   'source': './docs/1087300000923000020_0.docx'},\n",
              "  {'Товар': 'Бейсболка велюр зеленая (темная)',\n",
              "   'Количество': 'ONESIZE шт',\n",
              "   'source': './docs/1087300000923000020_0.docx'}]}"
            ]
          },
          "metadata": {},
          "execution_count": 27
        },
        {
          "output_type": "stream",
          "name": "stdout",
          "text": [
            "time: 5.47 ms (started: 2024-03-04 08:22:43 +00:00)\n"
          ]
        }
      ]
    },
    {
      "cell_type": "code",
      "source": [
        "extract_list[0]['text'][0].update({'source': './docs/0101100009423000050.docx'})"
      ],
      "metadata": {
        "id": "MSMll_GaSAC5",
        "colab": {
          "base_uri": "https://localhost:8080/"
        },
        "outputId": "8870a663-988e-476d-c02a-a5873bec659b"
      },
      "execution_count": null,
      "outputs": [
        {
          "output_type": "stream",
          "name": "stdout",
          "text": [
            "time: 592 µs (started: 2024-03-04 08:22:53 +00:00)\n"
          ]
        }
      ]
    },
    {
      "cell_type": "code",
      "source": [
        "extract_list[0]['text']"
      ],
      "metadata": {
        "id": "wAbIVcfmSPB4",
        "colab": {
          "base_uri": "https://localhost:8080/"
        },
        "outputId": "a39d5183-e399-4a90-e45d-ced2b8107685"
      },
      "execution_count": null,
      "outputs": [
        {
          "output_type": "execute_result",
          "data": {
            "text/plain": [
              "[{'Товар': 'Футболка х/б белая',\n",
              "  'Количество': '42 шт',\n",
              "  'source': './docs/0101100009423000050.docx'},\n",
              " {'Товар': 'Футболка х/б васильковая',\n",
              "  'Количество': '36 шт',\n",
              "  'source': './docs/1087300000923000020_0.docx'},\n",
              " {'Товар': 'Футболка х/б красная',\n",
              "  'Количество': '60 шт',\n",
              "  'source': './docs/1087300000923000020_0.docx'},\n",
              " {'Товар': 'Футболка х/б черная',\n",
              "  'Количество': '44 шт',\n",
              "  'source': './docs/1087300000923000020_0.docx'},\n",
              " {'Товар': 'Футболка х/б зеленая (темная)',\n",
              "  'Количество': '42 шт',\n",
              "  'source': './docs/1087300000923000020_0.docx'},\n",
              " {'Товар': 'Бейсболка велюр белая',\n",
              "  'Количество': 'ONESIZE шт',\n",
              "  'source': './docs/1087300000923000020_0.docx'},\n",
              " {'Товар': 'Бейсболка велюр красная (темная)',\n",
              "  'Количество': 'ONESIZE шт',\n",
              "  'source': './docs/1087300000923000020_0.docx'},\n",
              " {'Товар': 'Бейсболка велюр синяя (васильковая)',\n",
              "  'Количество': 'ONESIZE шт',\n",
              "  'source': './docs/1087300000923000020_0.docx'},\n",
              " {'Товар': 'Бейсболка велюр зеленая (темная)',\n",
              "  'Количество': 'ONESIZE шт',\n",
              "  'source': './docs/1087300000923000020_0.docx'}]"
            ]
          },
          "metadata": {},
          "execution_count": 29
        },
        {
          "output_type": "stream",
          "name": "stdout",
          "text": [
            "time: 5.47 ms (started: 2024-03-04 08:22:56 +00:00)\n"
          ]
        }
      ]
    },
    {
      "cell_type": "code",
      "source": [
        "df = pd.DataFrame(extract_list[0]['text'])\n",
        "df"
      ],
      "metadata": {
        "id": "ZkJb_RI5SQ9N",
        "colab": {
          "base_uri": "https://localhost:8080/",
          "height": 349
        },
        "outputId": "4fb17afe-f864-4b86-cd95-75903e6b1560"
      },
      "execution_count": null,
      "outputs": [
        {
          "output_type": "execute_result",
          "data": {
            "text/plain": [
              "                                 Товар  Количество  \\\n",
              "0                   Футболка х/б белая       42 шт   \n",
              "1             Футболка х/б васильковая       36 шт   \n",
              "2                 Футболка х/б красная       60 шт   \n",
              "3                  Футболка х/б черная       44 шт   \n",
              "4        Футболка х/б зеленая (темная)       42 шт   \n",
              "5                Бейсболка велюр белая  ONESIZE шт   \n",
              "6     Бейсболка велюр красная (темная)  ONESIZE шт   \n",
              "7  Бейсболка велюр синяя (васильковая)  ONESIZE шт   \n",
              "8     Бейсболка велюр зеленая (темная)  ONESIZE шт   \n",
              "\n",
              "                              source  \n",
              "0    ./docs/0101100009423000050.docx  \n",
              "1  ./docs/1087300000923000020_0.docx  \n",
              "2  ./docs/1087300000923000020_0.docx  \n",
              "3  ./docs/1087300000923000020_0.docx  \n",
              "4  ./docs/1087300000923000020_0.docx  \n",
              "5  ./docs/1087300000923000020_0.docx  \n",
              "6  ./docs/1087300000923000020_0.docx  \n",
              "7  ./docs/1087300000923000020_0.docx  \n",
              "8  ./docs/1087300000923000020_0.docx  "
            ],
            "text/html": [
              "\n",
              "  <div id=\"df-ae5e3d24-4ad3-4d00-a10f-684a61d5d0c4\" class=\"colab-df-container\">\n",
              "    <div>\n",
              "<style scoped>\n",
              "    .dataframe tbody tr th:only-of-type {\n",
              "        vertical-align: middle;\n",
              "    }\n",
              "\n",
              "    .dataframe tbody tr th {\n",
              "        vertical-align: top;\n",
              "    }\n",
              "\n",
              "    .dataframe thead th {\n",
              "        text-align: right;\n",
              "    }\n",
              "</style>\n",
              "<table border=\"1\" class=\"dataframe\">\n",
              "  <thead>\n",
              "    <tr style=\"text-align: right;\">\n",
              "      <th></th>\n",
              "      <th>Товар</th>\n",
              "      <th>Количество</th>\n",
              "      <th>source</th>\n",
              "    </tr>\n",
              "  </thead>\n",
              "  <tbody>\n",
              "    <tr>\n",
              "      <th>0</th>\n",
              "      <td>Футболка х/б белая</td>\n",
              "      <td>42 шт</td>\n",
              "      <td>./docs/0101100009423000050.docx</td>\n",
              "    </tr>\n",
              "    <tr>\n",
              "      <th>1</th>\n",
              "      <td>Футболка х/б васильковая</td>\n",
              "      <td>36 шт</td>\n",
              "      <td>./docs/1087300000923000020_0.docx</td>\n",
              "    </tr>\n",
              "    <tr>\n",
              "      <th>2</th>\n",
              "      <td>Футболка х/б красная</td>\n",
              "      <td>60 шт</td>\n",
              "      <td>./docs/1087300000923000020_0.docx</td>\n",
              "    </tr>\n",
              "    <tr>\n",
              "      <th>3</th>\n",
              "      <td>Футболка х/б черная</td>\n",
              "      <td>44 шт</td>\n",
              "      <td>./docs/1087300000923000020_0.docx</td>\n",
              "    </tr>\n",
              "    <tr>\n",
              "      <th>4</th>\n",
              "      <td>Футболка х/б зеленая (темная)</td>\n",
              "      <td>42 шт</td>\n",
              "      <td>./docs/1087300000923000020_0.docx</td>\n",
              "    </tr>\n",
              "    <tr>\n",
              "      <th>5</th>\n",
              "      <td>Бейсболка велюр белая</td>\n",
              "      <td>ONESIZE шт</td>\n",
              "      <td>./docs/1087300000923000020_0.docx</td>\n",
              "    </tr>\n",
              "    <tr>\n",
              "      <th>6</th>\n",
              "      <td>Бейсболка велюр красная (темная)</td>\n",
              "      <td>ONESIZE шт</td>\n",
              "      <td>./docs/1087300000923000020_0.docx</td>\n",
              "    </tr>\n",
              "    <tr>\n",
              "      <th>7</th>\n",
              "      <td>Бейсболка велюр синяя (васильковая)</td>\n",
              "      <td>ONESIZE шт</td>\n",
              "      <td>./docs/1087300000923000020_0.docx</td>\n",
              "    </tr>\n",
              "    <tr>\n",
              "      <th>8</th>\n",
              "      <td>Бейсболка велюр зеленая (темная)</td>\n",
              "      <td>ONESIZE шт</td>\n",
              "      <td>./docs/1087300000923000020_0.docx</td>\n",
              "    </tr>\n",
              "  </tbody>\n",
              "</table>\n",
              "</div>\n",
              "    <div class=\"colab-df-buttons\">\n",
              "\n",
              "  <div class=\"colab-df-container\">\n",
              "    <button class=\"colab-df-convert\" onclick=\"convertToInteractive('df-ae5e3d24-4ad3-4d00-a10f-684a61d5d0c4')\"\n",
              "            title=\"Convert this dataframe to an interactive table.\"\n",
              "            style=\"display:none;\">\n",
              "\n",
              "  <svg xmlns=\"http://www.w3.org/2000/svg\" height=\"24px\" viewBox=\"0 -960 960 960\">\n",
              "    <path d=\"M120-120v-720h720v720H120Zm60-500h600v-160H180v160Zm220 220h160v-160H400v160Zm0 220h160v-160H400v160ZM180-400h160v-160H180v160Zm440 0h160v-160H620v160ZM180-180h160v-160H180v160Zm440 0h160v-160H620v160Z\"/>\n",
              "  </svg>\n",
              "    </button>\n",
              "\n",
              "  <style>\n",
              "    .colab-df-container {\n",
              "      display:flex;\n",
              "      gap: 12px;\n",
              "    }\n",
              "\n",
              "    .colab-df-convert {\n",
              "      background-color: #E8F0FE;\n",
              "      border: none;\n",
              "      border-radius: 50%;\n",
              "      cursor: pointer;\n",
              "      display: none;\n",
              "      fill: #1967D2;\n",
              "      height: 32px;\n",
              "      padding: 0 0 0 0;\n",
              "      width: 32px;\n",
              "    }\n",
              "\n",
              "    .colab-df-convert:hover {\n",
              "      background-color: #E2EBFA;\n",
              "      box-shadow: 0px 1px 2px rgba(60, 64, 67, 0.3), 0px 1px 3px 1px rgba(60, 64, 67, 0.15);\n",
              "      fill: #174EA6;\n",
              "    }\n",
              "\n",
              "    .colab-df-buttons div {\n",
              "      margin-bottom: 4px;\n",
              "    }\n",
              "\n",
              "    [theme=dark] .colab-df-convert {\n",
              "      background-color: #3B4455;\n",
              "      fill: #D2E3FC;\n",
              "    }\n",
              "\n",
              "    [theme=dark] .colab-df-convert:hover {\n",
              "      background-color: #434B5C;\n",
              "      box-shadow: 0px 1px 3px 1px rgba(0, 0, 0, 0.15);\n",
              "      filter: drop-shadow(0px 1px 2px rgba(0, 0, 0, 0.3));\n",
              "      fill: #FFFFFF;\n",
              "    }\n",
              "  </style>\n",
              "\n",
              "    <script>\n",
              "      const buttonEl =\n",
              "        document.querySelector('#df-ae5e3d24-4ad3-4d00-a10f-684a61d5d0c4 button.colab-df-convert');\n",
              "      buttonEl.style.display =\n",
              "        google.colab.kernel.accessAllowed ? 'block' : 'none';\n",
              "\n",
              "      async function convertToInteractive(key) {\n",
              "        const element = document.querySelector('#df-ae5e3d24-4ad3-4d00-a10f-684a61d5d0c4');\n",
              "        const dataTable =\n",
              "          await google.colab.kernel.invokeFunction('convertToInteractive',\n",
              "                                                    [key], {});\n",
              "        if (!dataTable) return;\n",
              "\n",
              "        const docLinkHtml = 'Like what you see? Visit the ' +\n",
              "          '<a target=\"_blank\" href=https://colab.research.google.com/notebooks/data_table.ipynb>data table notebook</a>'\n",
              "          + ' to learn more about interactive tables.';\n",
              "        element.innerHTML = '';\n",
              "        dataTable['output_type'] = 'display_data';\n",
              "        await google.colab.output.renderOutput(dataTable, element);\n",
              "        const docLink = document.createElement('div');\n",
              "        docLink.innerHTML = docLinkHtml;\n",
              "        element.appendChild(docLink);\n",
              "      }\n",
              "    </script>\n",
              "  </div>\n",
              "\n",
              "\n",
              "<div id=\"df-dd8a4695-74d8-45ea-9a58-60d7e7fda8d3\">\n",
              "  <button class=\"colab-df-quickchart\" onclick=\"quickchart('df-dd8a4695-74d8-45ea-9a58-60d7e7fda8d3')\"\n",
              "            title=\"Suggest charts\"\n",
              "            style=\"display:none;\">\n",
              "\n",
              "<svg xmlns=\"http://www.w3.org/2000/svg\" height=\"24px\"viewBox=\"0 0 24 24\"\n",
              "     width=\"24px\">\n",
              "    <g>\n",
              "        <path d=\"M19 3H5c-1.1 0-2 .9-2 2v14c0 1.1.9 2 2 2h14c1.1 0 2-.9 2-2V5c0-1.1-.9-2-2-2zM9 17H7v-7h2v7zm4 0h-2V7h2v10zm4 0h-2v-4h2v4z\"/>\n",
              "    </g>\n",
              "</svg>\n",
              "  </button>\n",
              "\n",
              "<style>\n",
              "  .colab-df-quickchart {\n",
              "      --bg-color: #E8F0FE;\n",
              "      --fill-color: #1967D2;\n",
              "      --hover-bg-color: #E2EBFA;\n",
              "      --hover-fill-color: #174EA6;\n",
              "      --disabled-fill-color: #AAA;\n",
              "      --disabled-bg-color: #DDD;\n",
              "  }\n",
              "\n",
              "  [theme=dark] .colab-df-quickchart {\n",
              "      --bg-color: #3B4455;\n",
              "      --fill-color: #D2E3FC;\n",
              "      --hover-bg-color: #434B5C;\n",
              "      --hover-fill-color: #FFFFFF;\n",
              "      --disabled-bg-color: #3B4455;\n",
              "      --disabled-fill-color: #666;\n",
              "  }\n",
              "\n",
              "  .colab-df-quickchart {\n",
              "    background-color: var(--bg-color);\n",
              "    border: none;\n",
              "    border-radius: 50%;\n",
              "    cursor: pointer;\n",
              "    display: none;\n",
              "    fill: var(--fill-color);\n",
              "    height: 32px;\n",
              "    padding: 0;\n",
              "    width: 32px;\n",
              "  }\n",
              "\n",
              "  .colab-df-quickchart:hover {\n",
              "    background-color: var(--hover-bg-color);\n",
              "    box-shadow: 0 1px 2px rgba(60, 64, 67, 0.3), 0 1px 3px 1px rgba(60, 64, 67, 0.15);\n",
              "    fill: var(--button-hover-fill-color);\n",
              "  }\n",
              "\n",
              "  .colab-df-quickchart-complete:disabled,\n",
              "  .colab-df-quickchart-complete:disabled:hover {\n",
              "    background-color: var(--disabled-bg-color);\n",
              "    fill: var(--disabled-fill-color);\n",
              "    box-shadow: none;\n",
              "  }\n",
              "\n",
              "  .colab-df-spinner {\n",
              "    border: 2px solid var(--fill-color);\n",
              "    border-color: transparent;\n",
              "    border-bottom-color: var(--fill-color);\n",
              "    animation:\n",
              "      spin 1s steps(1) infinite;\n",
              "  }\n",
              "\n",
              "  @keyframes spin {\n",
              "    0% {\n",
              "      border-color: transparent;\n",
              "      border-bottom-color: var(--fill-color);\n",
              "      border-left-color: var(--fill-color);\n",
              "    }\n",
              "    20% {\n",
              "      border-color: transparent;\n",
              "      border-left-color: var(--fill-color);\n",
              "      border-top-color: var(--fill-color);\n",
              "    }\n",
              "    30% {\n",
              "      border-color: transparent;\n",
              "      border-left-color: var(--fill-color);\n",
              "      border-top-color: var(--fill-color);\n",
              "      border-right-color: var(--fill-color);\n",
              "    }\n",
              "    40% {\n",
              "      border-color: transparent;\n",
              "      border-right-color: var(--fill-color);\n",
              "      border-top-color: var(--fill-color);\n",
              "    }\n",
              "    60% {\n",
              "      border-color: transparent;\n",
              "      border-right-color: var(--fill-color);\n",
              "    }\n",
              "    80% {\n",
              "      border-color: transparent;\n",
              "      border-right-color: var(--fill-color);\n",
              "      border-bottom-color: var(--fill-color);\n",
              "    }\n",
              "    90% {\n",
              "      border-color: transparent;\n",
              "      border-bottom-color: var(--fill-color);\n",
              "    }\n",
              "  }\n",
              "</style>\n",
              "\n",
              "  <script>\n",
              "    async function quickchart(key) {\n",
              "      const quickchartButtonEl =\n",
              "        document.querySelector('#' + key + ' button');\n",
              "      quickchartButtonEl.disabled = true;  // To prevent multiple clicks.\n",
              "      quickchartButtonEl.classList.add('colab-df-spinner');\n",
              "      try {\n",
              "        const charts = await google.colab.kernel.invokeFunction(\n",
              "            'suggestCharts', [key], {});\n",
              "      } catch (error) {\n",
              "        console.error('Error during call to suggestCharts:', error);\n",
              "      }\n",
              "      quickchartButtonEl.classList.remove('colab-df-spinner');\n",
              "      quickchartButtonEl.classList.add('colab-df-quickchart-complete');\n",
              "    }\n",
              "    (() => {\n",
              "      let quickchartButtonEl =\n",
              "        document.querySelector('#df-dd8a4695-74d8-45ea-9a58-60d7e7fda8d3 button');\n",
              "      quickchartButtonEl.style.display =\n",
              "        google.colab.kernel.accessAllowed ? 'block' : 'none';\n",
              "    })();\n",
              "  </script>\n",
              "</div>\n",
              "    </div>\n",
              "  </div>\n"
            ],
            "application/vnd.google.colaboratory.intrinsic+json": {
              "type": "dataframe",
              "variable_name": "df",
              "summary": "{\n  \"name\": \"df\",\n  \"rows\": 9,\n  \"fields\": [\n    {\n      \"column\": \"\\u0422\\u043e\\u0432\\u0430\\u0440\",\n      \"properties\": {\n        \"dtype\": \"string\",\n        \"num_unique_values\": 9,\n        \"samples\": [\n          \"\\u0411\\u0435\\u0439\\u0441\\u0431\\u043e\\u043b\\u043a\\u0430 \\u0432\\u0435\\u043b\\u044e\\u0440 \\u0441\\u0438\\u043d\\u044f\\u044f (\\u0432\\u0430\\u0441\\u0438\\u043b\\u044c\\u043a\\u043e\\u0432\\u0430\\u044f)\",\n          \"\\u0424\\u0443\\u0442\\u0431\\u043e\\u043b\\u043a\\u0430 \\u0445/\\u0431 \\u0432\\u0430\\u0441\\u0438\\u043b\\u044c\\u043a\\u043e\\u0432\\u0430\\u044f\",\n          \"\\u0411\\u0435\\u0439\\u0441\\u0431\\u043e\\u043b\\u043a\\u0430 \\u0432\\u0435\\u043b\\u044e\\u0440 \\u0431\\u0435\\u043b\\u0430\\u044f\"\n        ],\n        \"semantic_type\": \"\",\n        \"description\": \"\"\n      }\n    },\n    {\n      \"column\": \"\\u041a\\u043e\\u043b\\u0438\\u0447\\u0435\\u0441\\u0442\\u0432\\u043e\",\n      \"properties\": {\n        \"dtype\": \"string\",\n        \"num_unique_values\": 5,\n        \"samples\": [\n          \"36 \\u0448\\u0442\",\n          \"ONESIZE \\u0448\\u0442\",\n          \"60 \\u0448\\u0442\"\n        ],\n        \"semantic_type\": \"\",\n        \"description\": \"\"\n      }\n    },\n    {\n      \"column\": \"source\",\n      \"properties\": {\n        \"dtype\": \"category\",\n        \"num_unique_values\": 2,\n        \"samples\": [\n          \"./docs/1087300000923000020_0.docx\",\n          \"./docs/0101100009423000050.docx\"\n        ],\n        \"semantic_type\": \"\",\n        \"description\": \"\"\n      }\n    }\n  ]\n}"
            }
          },
          "metadata": {},
          "execution_count": 30
        },
        {
          "output_type": "stream",
          "name": "stdout",
          "text": [
            "time: 19 ms (started: 2024-03-04 08:23:01 +00:00)\n"
          ]
        }
      ]
    },
    {
      "cell_type": "code",
      "source": [
        "flat_list = []\n",
        "for sublist in extract_list:\n",
        "    for item in sublist:\n",
        "        if item == 'text':\n",
        "            print(sublist[item])\n",
        "            flat_list.append(sublist[item])"
      ],
      "metadata": {
        "id": "3eJLlh2cseWz",
        "colab": {
          "base_uri": "https://localhost:8080/"
        },
        "outputId": "f040b503-41db-4095-ee13-fbe8b05d7f24"
      },
      "execution_count": null,
      "outputs": [
        {
          "output_type": "stream",
          "name": "stdout",
          "text": [
            "[{'Товар': 'Футболка х/б белая', 'Количество': '42 шт', 'source': './docs/0101100009423000050.docx'}, {'Товар': 'Футболка х/б васильковая', 'Количество': '36 шт', 'source': './docs/1087300000923000020_0.docx'}, {'Товар': 'Футболка х/б красная', 'Количество': '60 шт', 'source': './docs/1087300000923000020_0.docx'}, {'Товар': 'Футболка х/б черная', 'Количество': '44 шт', 'source': './docs/1087300000923000020_0.docx'}, {'Товар': 'Футболка х/б зеленая (темная)', 'Количество': '42 шт', 'source': './docs/1087300000923000020_0.docx'}, {'Товар': 'Бейсболка велюр белая', 'Количество': 'ONESIZE шт', 'source': './docs/1087300000923000020_0.docx'}, {'Товар': 'Бейсболка велюр красная (темная)', 'Количество': 'ONESIZE шт', 'source': './docs/1087300000923000020_0.docx'}, {'Товар': 'Бейсболка велюр синяя (васильковая)', 'Количество': 'ONESIZE шт', 'source': './docs/1087300000923000020_0.docx'}, {'Товар': 'Бейсболка велюр зеленая (темная)', 'Количество': 'ONESIZE шт', 'source': './docs/1087300000923000020_0.docx'}]\n",
            "[{'Товар': 'Объекты капитального строительства', 'Год изготовления': '', 'Гарантийный срок': '', 'Количество': '', 'source': './docs/2025500000123000013_0.docx'}, {'Товар': 'Инженерная инфраструктура: кабельная канализация сетей связи, сети и сооружения электроснабжения', 'Год изготовления': '', 'Гарантийный срок': '', 'Количество': '', 'source': './docs/2025500000123000013_0.docx'}, {'Товар': 'Объекты транспортной инфраструктуры', 'Год изготовления': '', 'Гарантийный срок': '', 'Количество': '', 'source': './docs/2025500000123000013_0.docx'}, {'Товар': 'Автомобильная дорога от УПК15 до УПК16', 'Год изготовления': '', 'Гарантийный срок': '', 'Количество': '', 'source': './docs/2025500000123000013_0.docx'}]\n",
            "[{'Товар': 'Гетры', 'Количество': '10', 'source': './docs/9800600000423000056_0.docx'}, {'Товар': 'Майка игрока', 'Количество': '12', 'source': './docs/9800600000423000056_0.docx'}, {'Товар': 'Наколенники', 'Количество': '5', 'source': './docs/9800600000423000056_0.docx'}, {'Товар': 'Наколенники', 'Количество': '5', 'source': './docs/9800600000423000056_0.docx'}, {'Товар': 'Налокотники', 'Количество': '10', 'source': './docs/9800600000423000056_0.docx'}, {'Товар': 'Наплечник', 'Количество': '3', 'source': './docs/9800600000423000056_0.docx'}, {'Товар': 'Наплечник', 'Количество': '5', 'source': './docs/9800600000423000056_0.docx'}, {'Товар': 'Наплечник', 'Количество': '2', 'source': './docs/9800600000423000056_0.docx'}, {'Товар': 'Наплечник вратаря', 'Количество': '1', 'source': './docs/9800600000423000056_0.docx'}, {'Товар': 'Трусы', 'Количество': '3', 'source': './docs/9800600000423000056_0.docx'}, {'Товар': 'Трусы', 'Количество': '5', 'source': './docs/9800600000423000056_0.docx'}, {'Товар': 'Трусы', 'Количество': '2', 'source': './docs/9800600000423000056_0.docx'}, {'Товар': 'Трусы вратаря', 'Количество': '2', 'source': './docs/9800600000423000056_0.docx'}, {'Товар': 'Нательное белье (брюки с раковиной)', 'Количество': '3', 'source': './docs/9800600000423000056_0.docx'}, {'Товар': 'Нательное белье (брюки с раковиной)', 'Количество': '5', 'source': './docs/9800600000423000056_0.docx'}, {'Товар': 'Нательное белье (брюки с раковиной)', 'Количество': '1', 'source': './docs/9800600000423000056_0.docx'}, {'Товар': 'Нательное белье (брюки с раковиной)', 'Количество': '1', 'source': './docs/9800600000423000056_0.docx'}, {'Товар': 'Шлем', 'Количество': '10', 'source': './docs/9800600000423000056_0.docx'}, {'Товар': 'Шлем вратаря', 'Количество': '2', 'source': './docs/9800600000423000056_0.docx'}, {'Товар': 'Щитки вратаря', 'Количество': '1', 'source': './docs/9800600000423000056_0.docx'}, {'Товар': 'Перчатки', 'Количество': '10', 'source': './docs/9800600000423000056_0.docx'}, {'Товар': 'Клюшка для хоккея', 'Количество': '1', 'source': './docs/9800600000423000056_0.docx'}, {'Товар': 'Клюшка для хоккея', 'Количество': '10', 'source': './docs/9800600000423000056_0.docx'}, {'Товар': 'Коньки хоккейные', 'Количество': '1', 'source': './docs/9800600000423000056_0.docx'}, {'Товар': 'Коньки хоккейные', 'Количество': '1', 'source': './docs/9800600000423000056_0.docx'}, {'Товар': 'Коньки хоккейные', 'Количество': '1', 'source': './docs/9800600000423000056_0.docx'}]\n",
            "time: 2.76 ms (started: 2024-03-04 08:23:09 +00:00)\n"
          ]
        }
      ]
    },
    {
      "cell_type": "code",
      "source": [
        "len(flat_list)"
      ],
      "metadata": {
        "id": "rkV2UKffseWz",
        "colab": {
          "base_uri": "https://localhost:8080/"
        },
        "outputId": "191d2d97-3e1a-4307-f35d-b42e34f9fb04"
      },
      "execution_count": null,
      "outputs": [
        {
          "output_type": "execute_result",
          "data": {
            "text/plain": [
              "3"
            ]
          },
          "metadata": {},
          "execution_count": 32
        },
        {
          "output_type": "stream",
          "name": "stdout",
          "text": [
            "time: 3.06 ms (started: 2024-03-04 08:23:14 +00:00)\n"
          ]
        }
      ]
    },
    {
      "cell_type": "code",
      "source": [
        "flat_list = []\n",
        "for sublist in extract_list:\n",
        "    for item in sublist:\n",
        "        if item == 'text':\n",
        "            print(item)\n",
        "            flat_list.append(item)"
      ],
      "metadata": {
        "id": "bxInfH8bdxLl",
        "colab": {
          "base_uri": "https://localhost:8080/"
        },
        "outputId": "6ea2990a-fea1-4703-de17-fc01a72e3b5b"
      },
      "execution_count": null,
      "outputs": [
        {
          "output_type": "stream",
          "name": "stdout",
          "text": [
            "text\n",
            "text\n",
            "text\n",
            "time: 2.26 ms (started: 2024-03-04 08:23:17 +00:00)\n"
          ]
        }
      ]
    },
    {
      "cell_type": "code",
      "source": [],
      "metadata": {
        "id": "OEIS9HGudxLm"
      },
      "execution_count": null,
      "outputs": []
    },
    {
      "cell_type": "markdown",
      "source": [
        "### 2 с помощью pydantic"
      ],
      "metadata": {
        "id": "KZ-50-3ck1-I"
      }
    },
    {
      "cell_type": "code",
      "source": [
        "from typing import Optional\n",
        "from langchain.chains import create_extraction_chain_pydantic\n",
        "from langchain_core.pydantic_v1 import BaseModel"
      ],
      "metadata": {
        "id": "Gkn5bXKQjVyX",
        "colab": {
          "base_uri": "https://localhost:8080/"
        },
        "outputId": "3a0f1b63-0d1f-462b-f557-5b14203292c7"
      },
      "execution_count": null,
      "outputs": [
        {
          "output_type": "stream",
          "name": "stdout",
          "text": [
            "time: 835 µs (started: 2024-03-04 08:23:21 +00:00)\n"
          ]
        }
      ]
    },
    {
      "cell_type": "code",
      "source": [
        "class Properties(BaseModel):\n",
        "    name: str"
      ],
      "metadata": {
        "id": "Bh5NaY3ak4zs",
        "colab": {
          "base_uri": "https://localhost:8080/"
        },
        "outputId": "d377ec10-d614-41a9-d7ef-71dc21fc69ae"
      },
      "execution_count": null,
      "outputs": [
        {
          "output_type": "stream",
          "name": "stdout",
          "text": [
            "time: 1.62 ms (started: 2024-03-04 08:23:23 +00:00)\n"
          ]
        }
      ]
    },
    {
      "cell_type": "code",
      "source": [
        "chain = create_extraction_chain_pydantic(pydantic_schema=Properties, llm=llm)"
      ],
      "metadata": {
        "id": "4DrsbZX-Sy6L",
        "colab": {
          "base_uri": "https://localhost:8080/"
        },
        "outputId": "0c7409ad-bc48-432b-b4c1-f3562928eafb"
      },
      "execution_count": null,
      "outputs": [
        {
          "output_type": "stream",
          "name": "stdout",
          "text": [
            "time: 2.2 ms (started: 2024-03-04 08:23:26 +00:00)\n"
          ]
        }
      ]
    },
    {
      "cell_type": "code",
      "source": [
        "inp = data[0].page_content\n",
        "chain.run(inp)"
      ],
      "metadata": {
        "colab": {
          "base_uri": "https://localhost:8080/",
          "height": 176
        },
        "id": "pJmQvXbslFLS",
        "outputId": "5168167a-7e2f-4bbf-aca5-e3290e2d9b60"
      },
      "execution_count": null,
      "outputs": [
        {
          "output_type": "error",
          "ename": "NameError",
          "evalue": "name 'data' is not defined",
          "traceback": [
            "\u001b[0;31m---------------------------------------------------------------------------\u001b[0m",
            "\u001b[0;31mNameError\u001b[0m                                 Traceback (most recent call last)",
            "\u001b[0;32m<ipython-input-37-c2d81f330f9e>\u001b[0m in \u001b[0;36m<cell line: 1>\u001b[0;34m()\u001b[0m\n\u001b[0;32m----> 1\u001b[0;31m \u001b[0minp\u001b[0m \u001b[0;34m=\u001b[0m \u001b[0mdata\u001b[0m\u001b[0;34m[\u001b[0m\u001b[0;36m0\u001b[0m\u001b[0;34m]\u001b[0m\u001b[0;34m.\u001b[0m\u001b[0mpage_content\u001b[0m\u001b[0;34m\u001b[0m\u001b[0;34m\u001b[0m\u001b[0m\n\u001b[0m\u001b[1;32m      2\u001b[0m \u001b[0mchain\u001b[0m\u001b[0;34m.\u001b[0m\u001b[0mrun\u001b[0m\u001b[0;34m(\u001b[0m\u001b[0minp\u001b[0m\u001b[0;34m)\u001b[0m\u001b[0;34m\u001b[0m\u001b[0;34m\u001b[0m\u001b[0m\n",
            "\u001b[0;31mNameError\u001b[0m: name 'data' is not defined"
          ]
        },
        {
          "output_type": "stream",
          "name": "stdout",
          "text": [
            "time: 390 ms (started: 2024-03-04 08:23:28 +00:00)\n"
          ]
        }
      ]
    },
    {
      "cell_type": "code",
      "source": [],
      "metadata": {
        "id": "UBfH8qVWSsbI"
      },
      "execution_count": null,
      "outputs": []
    },
    {
      "cell_type": "markdown",
      "source": [
        "# xls"
      ],
      "metadata": {
        "id": "CXlquh2aDpet"
      }
    },
    {
      "cell_type": "markdown",
      "source": [
        "## Чтение файлов"
      ],
      "metadata": {
        "id": "setpPJb0aLIQ"
      }
    },
    {
      "cell_type": "code",
      "source": [
        "zip_file = '/content/drive/MyDrive/Intern/RusExpress/xlsx.zip'\n",
        "extract_to = 'xlsx'\n",
        "\n",
        "def load_and_extract(zip_file, extract_to):"
      ],
      "metadata": {
        "id": "OrZXmIUkaKa0"
      },
      "execution_count": null,
      "outputs": []
    },
    {
      "cell_type": "markdown",
      "source": [
        "### UnstructuredExcelLoader"
      ],
      "metadata": {
        "id": "QJ3LmEZPaA03"
      }
    },
    {
      "cell_type": "code",
      "source": [
        "from langchain_community.document_loaders import UnstructuredExcelLoader"
      ],
      "metadata": {
        "id": "kFGLYQcuDmJJ",
        "colab": {
          "base_uri": "https://localhost:8080/"
        },
        "outputId": "d21c80ec-8a4c-423f-920a-9496e37a16fd"
      },
      "execution_count": null,
      "outputs": [
        {
          "output_type": "stream",
          "name": "stdout",
          "text": [
            "time: 486 µs (started: 2024-03-04 08:28:19 +00:00)\n"
          ]
        }
      ]
    },
    {
      "cell_type": "code",
      "source": [
        "loader = UnstructuredExcelLoader('/content/docs/2.xlsx')\n",
        "docs = loader.load()\n",
        "docs[0]"
      ],
      "metadata": {
        "colab": {
          "base_uri": "https://localhost:8080/"
        },
        "id": "dgQtilnuk9eq",
        "outputId": "3832e045-b525-4d78-9c78-14c0a6abfae3"
      },
      "execution_count": null,
      "outputs": [
        {
          "output_type": "execute_result",
          "data": {
            "text/plain": [
              "Document(page_content='УТВЕРЖДАЮ:                                                                                                                  Государственное бюджетное учреждение Краснодарского края                                     «Центр обеспечения мероприятий гражданской обороны и                                       чрезвычайных ситуаций «Защита»                                                            _______________________ Д.А. Коваленко                                                        \"_____\" _______________________ 2022 г.                                                                           \\n\\nОПИСАНИЕ ОБЪЕКТА ЗАКУПКИ\\n\\n               (поставка товаров, оборудования без комплектности)\\n\\nПоставка жилого полевого комплекса для создания резервов материальных ресурсов для ликвидации чрезвычайных ситуаций межмуниципального и регионального характера\\n\\n(указывается предмет контракта)\\n\\n\\n\\n\\n№ п/п\\nНаименование товара, входящего в объект закупки\\nКод по ОКПД2/Код позиции КТРУ*\\nТоварный знак**\\nЕд. изм.\\nКол-во\\nТребования, установленные в отношении закупаемого товара (показатели, в соответствии с которыми будет устанавливаться соответствие)\\n\\n\\nУточнение вида значения характеристики закупаемого товара, указанной в соответствии с КТРУ***\\nОбоснование необходимости использования дополнительных характеристик (пункт 6 Правил использования каталога товаров, работ, услуг для обеспечения государственных и муниципальных нужд утвержденных постановлением Правительства РФ от 8 февраля 2017 г. № 145 «Об утверждении Правил формирования и ведения в единой информационной системе в сфере закупок каталога товаров, работ, услуг для обеспечения государственных и муниципальных нужд и Правил использования каталога товаров, работ, услуг для обеспечения государственных и муниципальных нужд»)\\n\\n\\n\\n\\n\\n\\n\\n\\nНаименование показателя, ед. изм. показателя\\nОписание, значение\\n\\n\\n\\n\\n\\n1\\n2\\n3\\n4\\n5\\n6\\n7\\n8\\n\\n9\\n10\\n\\n\\n1\\nЖилой полевой комплекс\\n13.92.22.152\\n\\nШтука\\n1\\nКонструктивные требования\\n\\n\\n\\n\\n\\n\\n\\n\\n\\n\\n\\n\\nЖилой полевой комплекс имеет классическую форму домика с двускатной крышей и немного наклоненными\\\\nбоковыми стенками. В крыше имеется защищенное, управляемой с помощью стропы шторка и обрамленное стальным листом, отверстие для установки дымохода. В торцевых стенках установлено по два окна с противомоскитными сетками и светопрозрачными шторками. Палатка имеет два входа с тамбурами, расположенными по торцевым стенкам. В\\\\nнижней части торцевых стенок имеются рукава для подключения климатического оборудования.\\\\nПод коньком крыши расположены защищенные москитными сетками отверстия для вентиляции.\\nСоответствие\\n\\n\\n\\n\\n\\n\\n\\n\\n\\n\\n\\nОсновные параметры\\n\\n\\n\\n\\n\\n\\n\\n\\n\\n\\n\\n\\nДлина, м\\n≥ 9,8\\n\\n\\n\\n\\n\\n\\n\\n\\n\\n\\n\\nШирина, м\\n≥ 5,2\\n\\n\\n\\n\\n\\n\\n\\n\\n\\n\\n\\nВысота боковой стенки, м\\n≥ 1,83\\n\\n\\n\\n\\n\\n\\n\\n\\n\\n\\n\\nВысота  по гребню, м\\n≥ 2,6\\n\\n\\n\\n\\n\\n\\n\\n\\n\\n\\n\\nПолезная площадь, м²\\n≥ 40,0\\n\\n\\n\\n\\n\\n\\n\\n\\n\\n\\n\\nМасса палатки, кг\\n500 ± 50\\n\\n\\n\\n\\n\\n\\n\\n\\n\\n\\n\\nДиапазон температур окружающей среды  °С\\nот -40 до +50\\n\\n\\n\\n\\n\\n\\n\\n\\n\\n\\n\\nКомплект поставки\\n\\n\\n\\n\\n\\n\\n\\n\\n\\n\\n\\n\\nКомплект включает:\\\\n  - каркас палатки ;\\\\n  - внешний тент;\\\\n  - внутренний тент;\\\\n  - напольное покрытие;\\\\n  - такелаж;\\\\n  - комплект ЗИП;\\\\n  - упаковочные баулы;                                                    - руководство по эксплуатации.\\nСоответствие\\n\\n\\n\\n\\n\\n\\n\\n\\n\\n\\n\\nКаркас палатки\\n\\n\\n\\n\\n\\n\\n\\n\\n\\n\\n\\n\\nКаркас палатки сборно-разборный. Основу каркаса составляют стальные элементы из труб сечением 40х1,5 мм , которые соединяются переходниками из труб сечением 48х3,5 мм. Все металлические части защищены от\\\\nкоррозии порошковым полимерным покрытием.  Наклонные боковые стенки, повышают ветроустойчивость.\\nСоответствие\\n\\n\\n\\n\\n\\n\\n\\n\\n\\n\\n\\nВнешний тент\\n\\n\\n\\n\\n\\n\\n\\n\\n\\n\\n\\n\\nВнешний тент изготовлен из полотен ПВХ ткани, соединенных между собой тепловой сваркой. Плотность ткани 550  г/м². Цвет синий. Окна с противомоскитными сетками и светопрозрачными шторками. Двери - запашные.\\\\nОтверстия  для подключения климатического оборудования  диаметром 200мм оборудованы рукавами с затяжкой и защитными клапанами.\\nСоответствие\\n\\n\\n\\n\\n\\n\\n\\n\\n\\n\\n\\nВнутренний тент\\n\\n\\n\\n\\n\\n\\n\\n\\n\\n\\n\\n\\nВнутренний тент сшит из ткани Дискрет-О – негорючего полиэфирного материала с дискретным поливинилхлоридным покрытием, плотность 220 г/м². Цвет белый. Расположение окон и входов элементов внутреннего намета соответствует расположению аналогичных элементов на наружном намете.\\n\\\\n\\\\nСоответствие\\\\n\\n\\n\\n\\n\\n\\n\\n\\n\\n\\n\\n\\nНапольное покрытие\\n\\n\\n\\n\\n\\n\\n\\n\\n\\n\\n\\n\\nНапольное покрытие выполнено из ПВХ  ткани плотностью 650±50  г/м². Все швы выполняются  тепловой сваркой. Цвет серый.\\nСоответствие\\n\\n\\n\\n\\n\\n\\n\\n\\n\\n\\n\\nУпаковочные чехлы\\n\\n\\n\\n\\n\\n\\n\\n\\n\\n\\n\\n\\nУпаковочные чехлы предохраняет изделия палатки от загрязнений и механических повреждений.\\nСоответствие\\n\\n\\n\\n\\n\\n\\n\\n\\n\\n\\n№ п/п\\nНаименование\\n\\n\\n\\n\\nПоказатель\\n\\n\\n1\\nТребования к качеству и безопасности товара\\n\\n\\n\\n\\nВ соответствии с требованиями нормативных документов (технических регламентов, ГОСТ, СаНПин), действующих на территории Российской Федерации\\n\\n\\n2\\nТребования к таре и упаковке\\n\\n\\n\\n\\nТара, упаковка и упаковочные материалы должны быть разрешены к применению и соответствовать требованиями нормативных документов (технических регламентов, ГОСТ, СаНПин), действующих на территории Российской Федерации, и обеспечивать сохранность и качество продукции при транспортировке и хранении\\n\\n\\n3\\nТребования к обеспечению энергетической эффективности товаров, работ, услуг****\\n\\n\\n\\n\\nНе установлены\\n\\n\\n4\\nСрок предоставления гарантии производителя на товар с даты подписания заказчиком документа о приемке товара, месяц*****\\n\\n\\n\\n\\nНе менее 12 месяцев\\n\\n\\n\\nСрок предоставления гарантии поставщика на товар с даты подписания заказчиком документа о приемке товара, месяц. Срок гарантии поставщика не может быть менее срока гарантии производителя*****\\n\\n\\n\\n\\nНе менее 12 месяцев\\n\\n\\n\\nОстаточный срок годности******\\n\\n\\n\\n\\nНе установлен\\n\\n\\n5\\nОбоснование необходимости использования других показателей, требований, условных обозначений и терминологии, если заказчиком при составлении описания объекта закупки согласно п.2 ч.1 ст. 33 Закона № 44-ФЗ не используются установленные в соответствии с законодательством Российской Федерации о техническом регулировании, законодательством Российской Федерации о стандартизации показатели, требования, условные обозначения и терминология\\n\\n\\n\\n\\n\\n\\n\\n\\n\\n            * Общероссийский классификатор продукции по видам экономической деятельности ОК 034-2014 и каталог товаров, работ, услуг для обеспечения государственных и муниципальных нужд, размещенный в единой информационной системе в сфере закупок.\\n            ** Указания на товарный знак допускается при условии сопровождения такого указания словами «или эквивалент» либо при условии несовместимости товаров, на которых размещаются другие товарные знаки, и необходимости обеспечения взаимодействия таких товаров с товарами, используемыми заказчиком, либо при условии закупок запасных частей и расходных материалов к машинам и оборудованию, используемым заказчиком, в соответствии с технической документацией на указанные машины и оборудование (при отсутствии информации допускается исключение данной графы из формы с последующим пересчетом нумерации граф);\\n            *** Заполняется в случае, если при описании характеристики товара применяется информация, включенная в соответствующую позицию КТРУ. При этом Заказчик самостоятельно определяет вид характеристики в отношении каждого значения (диапазонное или конкретное или неизменяемое) (при отсутствии информации допускается исключение данной графы из формы с последующим пересчетом нумерации граф);\\n            **** Данное требование устанавливается в соответствии с частью 5 статьи 26 Федерального закона от 23 ноября 2009 г. № 261-ФЗ «Об энергосбережении и о повышении энергетической эффективности и о внесении изменений в отдельные законодательные акты Российской Федерации», Постановлением Правительства Российской Федерации от 31 декабря 2009 г. № 1221 «Об утверждении Правил установления требований энергетической эффективности товаров, работ, услуг, размещение заказов на которые осуществляется для государственных или муниципальных нужд»;\\n            ***** В случае определения поставщика новых машин и оборудования заказчик обязательно должен установить требования к предоставлению гарантии производителя и (или) поставщика данного товара и к сроку действия гарантии. В случае определения поставщика по иной номенклатуре требование к предоставлению гарантии устанавливается при необходимости. Предоставление такой гарантии осуществляется вместе с данным товаром.\\n            ******Остаточный срок годности устанавливается при закупке отдельных категорий товаров, имеющих определенный срок использования.\\n\\n\\nГлавный специалист финансово-экономического отдела, контрактный управляющий ______________________________ Н.В. Нехорошкова', metadata={'source': '/content/docs/2.xlsx'})"
            ]
          },
          "metadata": {},
          "execution_count": 40
        },
        {
          "output_type": "stream",
          "name": "stdout",
          "text": [
            "time: 384 ms (started: 2024-03-04 08:29:30 +00:00)\n"
          ]
        }
      ]
    },
    {
      "cell_type": "code",
      "source": [
        "loader = UnstructuredExcelLoader('/content/xlsx/0108500000423001283.XLS')\n",
        "docs = loader.load()\n",
        "docs[0]"
      ],
      "metadata": {
        "colab": {
          "base_uri": "https://localhost:8080/"
        },
        "id": "npeG1_2qa9R2",
        "outputId": "b682c58e-4d73-4074-b3a2-a0b55438bff0"
      },
      "execution_count": null,
      "outputs": [
        {
          "output_type": "execute_result",
          "data": {
            "text/plain": [
              "Document(page_content='Приложение 1\\n\\nк извещению об электронном аукционе\\n\\n\\nк извещению об электронном аукционе\\n\\n\\nОписание объекта закупки, характеристики и показатели (параметры), позволяющие определить соответствие закупаемого товара требованиям заказчика\\n\\nИдентификационный код закупки: 232120600358212060100100100010000244\\n\\nИдентификационный код закупки: 232120600358212060100100100010000244\\n\\nКТРУ: 32.50.50.190-00002627\\n\\n\\n\\n\\n\\n\\nХарактеристики из КТРУ\\n\\n\\n\\n\\n№ п.п.\\nНаименование показателя (характеристики)\\nОбоснование требований, предъявленных заказчиком\\nЗначение показателя (характеристики), установленное заказчиком\\n\\n\\nХарактеристики из КТРУ\\n\\n\\n\\n\\n\\n1\\nВысота, мм\\nХарактеристика из КТРУ\\n≥ 1045 и ≤ 2300\\n\\n\\n2\\nГлубина, мм\\nХарактеристика из КТРУ\\n≥ 600 и ≤ 844\\n\\n\\n3\\nШирина, мм\\nХарактеристика из КТРУ\\n≥ 994 и ≤ 2420\\n\\n\\n4\\nЗащитные крышки на розетках\\nХарактеристика из КТРУ\\nДа\\n\\n\\n5\\nКоличество рабочих камер, штука\\nХарактеристика из КТРУ\\n1\\n\\n\\n6\\nОткрываемая передняя часть\\nХарактеристика из КТРУ\\nСтеклянный экран\\n\\n\\n7\\nУстройство приточной вентиляции с питанием от сети\\nХарактеристика из КТРУ\\nДа\\n\\n\\n8\\nБактерицидная лампа\\nХарактеристика из КТРУ\\nДа\\n\\n\\nДополнительные характеристики\\n\\n\\n\\n\\n\\nОбщие требования\\n\\n\\n\\n\\n\\n9\\nНазначение\\nДля обеспечения реализации производственных задач заказчика\\nДля проведения \\\\nисследований и работ, связанных с возникновением и \\\\nраспространением малотоксичных паров и газов, вредных для \\\\nздоровья человека, для работы с веществами, требующими \\\\nэффективного удаления побочных продуктов из рабочей зоны\\n\\n\\n10\\nТехническая документация (на русском языке либо нотариально заверенный перевод)\\nДля обеспечения эксплуатации товара в соответствии с требованиями производителя\\nНаличие\\n\\n\\n11\\nСервисная книжка (гарантийный талон или иной аналогичный документ), включающая руководство по гарантийному обслуживанию, (на русском языке либо нотариально заверенный перевод)\\nДля документального обеспечения гарантийного обслуживания\\nНаличие\\n\\n\\n12\\nСертификат соответствия изделия требованиям ГОСТ Р ЕН 12469-201\\\\n\\nДля подтверждения соответствия товара требованиям нормативных правовых актов\\nНаличие\\n\\n\\n13\\nДекларация соответствия требованиям ТР ТС 020/2011 «Электромагнитная совместимость технических средств»\\\\n\\nДля подтверждения соответствия товара требованиям нормативных правовых актов\\nНаличие\\n\\n\\n14\\nГарантийное обслуживание с даты приёмки, мес.\\nДля обеспечения максимального продолжительного срока безаварийной эксплуатации и сокращения расходов на ремонт\\nНе менее 12\\n\\n\\n15\\nГод выпуска\\nДля обеспечения максимального продолжительного срока эксплуатации\\nНе ранее 2023\\n\\n\\n16\\nМасса (нетто), кг\\nДля обеспечения возможности перемещения товара с возможно минимальными усилиями\\nНе более 100\\n\\n\\nЭлектрооснащение\\n\\n\\n\\n\\n\\n17\\nРабота от сети переменного тока частотой 50 Гц и номинальным напряжением 220-240 В\\nДля обеспечения соответствия параметрам электрического тока сети\\nСоответствие\\n\\n\\n18\\nПотребляемая мощность без учёта нагрузки на встроенные розетки, Вт\\nДля минимизации расхода электроэнергии\\nНе более 100\\n\\n\\n19\\nОсвещённость рабочей зоны, люкс\\nДля обеспечения санитарно-гигиенических норм и высокой производительности рабочего персонала\\nНе менее 1000\\n\\n\\n20\\nБлок розеток  с заземлением, горизонтальный, из двух розеток, с крышками на каждой розетке\\nДля подключения электропотребителей, используемых в производственном процессе\\nНаличие\\n\\n\\nИсполнение и технические характеристики\\n\\n\\n\\n\\n\\n21\\nПодставка шкафа (металлическая с покрытием, устойчивым к воздействию агрессивных сред: кислот, щелочей, спиртов, дезинфицирующих средств)\\nОбеспечение долгосрочной эксплуатации объекта закупки\\nСоответствие\\n\\n\\n22\\nВысота подставки бокса, мм\\nОбеспечение эргономики\\nНе менее 900 и не более 1100\\n\\n\\n23\\nВинтовые опоры для стационарной установки\\nДля обеспечения устойчивого положения по месту установки\\nНаличие\\n\\n\\n24\\nОбъёмный расход топлива, удаляемого из рабочей камеры шкафа, м3/ч\\nДля обеспечения достаточной функциональности при решении производственных задач заказчика\\nНе менее 400\\n\\n\\n25\\nСредняя скорость потока воздуха, входящего в шкаф через рабочий проём, м/с\\nДля обеспечения достаточной функциональности при решении производственных задач заказчика\\nНе менее 0,5\\n\\n\\n\\n\\nДополнительные характеристики\\n\\nОбщие требования\\n\\nЭлектрооснащение\\n\\nИсполнение и технические характеристики\\n\\n\\n\\n\\n2.\\nНаименование: Термостат лабораторный\\n\\n\\n\\nКТРУ: 32.50.50.190-00000839\\n\\n\\n\\nКоличество, штук: 1\\n\\n\\n\\n\\nОбщие требования\\n\\n\\n\\n\\n№ п.п.\\nНаименование показателя (характеристики)\\nЗначение показателя (характеристики), установленное заказчиком\\n\\n\\nОбщие требования\\n\\n\\n\\n\\n1\\nНазначение\\nДля установки и поддержания в течение заданного времени необходимой температуры внутри рабочей камеры\\n\\n\\n2\\nТехническая документация на русском языке или его нотариально заверенный перевод\\nНаличие\\n\\n\\n3\\nСервисная книжка (гарантийный талон или иной аналогичный документ), включающая руководство по гарантийному обслуживанию, или его нотариально заверенный перевод\\nНаличие\\n\\n\\n4\\nГарантийное обслуживание с даты подписания документа о приёмке, месяцев\\nНе менее 12\\n\\n\\n5\\nГод выпуска\\nНе ранее 2023\\n\\n\\n6\\nСертификат соответствия с приложением, выданный органом по сертификации, аккредитованным Госстандартом России, в случае если товар подлежит обязательной сертификации, или справка уполномоченного органа о том, что объект не подлежит обязательной сертификации\\nНаличие\\n\\n\\nИсполнение и технические требования\\n\\n\\n\\n\\n7\\nВнутренняя стеклянная дверь\\nНаличие\\n\\n\\n8\\nКоличество полок в комплекте, штука\\nНе менее 1\\n\\n\\n9\\nВозможное количество полок к установке, штука\\nНе менее 3\\n\\n\\n10\\nЦифровая индикация текущей и заданной температур на основе светоизлучающих элементов\\nНаличие\\n\\n\\n11\\nМикропроцессорный контроль, цифровой дисплей\\nНаличие\\n\\n\\n12\\nРабочий диапазон температур от температуры окружающей среды в интервале, °С\\nНе менее от +5 до +70\\n\\n\\n13\\nМаксимальное отклонение температуры в любой точке рабочей камеры от средней при 37 °С, °С\\nНе более 0,5\\n\\n\\n14\\nТаймер с задержкой\\nНаличие\\n\\n\\n15\\nРегулируемый вытяжной клапан\\nНаличие\\n\\n\\n16\\nРабота от сети переменного тока частотой 50 Гц и номинальным напряжением 220 В\\nСоответствие\\n\\n\\n17\\nВстроенное независимое регулируемое устройство защиты от перегрева класс 3.1 с визуальным сигналом тревоги\\nНаличие\\n\\n\\nГабариты\\n\\n\\n\\n\\n18\\nГабариты, мм:\\n\\n\\n\\n\\nШирина\\nНе более 600\\n\\n\\n\\nГлубина\\nНе более 600\\n\\n\\n\\nВысота\\nНе более 600\\n\\n\\n19\\nОбъем, л\\nНе менее 60\\n\\n\\n20\\nМасса (нетто), кг\\nНе более 40\\n\\n\\n\\n\\nИсполнение и технические требования\\n\\nГабариты', metadata={'source': '/content/xlsx/0108500000423001283.XLS'})"
            ]
          },
          "metadata": {},
          "execution_count": 9
        }
      ]
    },
    {
      "cell_type": "code",
      "source": [],
      "metadata": {
        "id": "8gUrbiyQY6G_"
      },
      "execution_count": null,
      "outputs": []
    },
    {
      "cell_type": "markdown",
      "source": [
        "## Извлечение сущностей"
      ],
      "metadata": {
        "id": "Szknxvq6bXPE"
      }
    },
    {
      "cell_type": "markdown",
      "source": [
        "### Загрузка библиотек"
      ],
      "metadata": {
        "id": "Z8Te-pbVbXPF"
      }
    },
    {
      "cell_type": "code",
      "source": [
        "!pip install langchain openai langchain-openai"
      ],
      "metadata": {
        "id": "iHX8mLLtbXPF",
        "colab": {
          "base_uri": "https://localhost:8080/"
        },
        "outputId": "9caa4615-dd1b-4b7d-c1b4-7bae1f94f2a0"
      },
      "execution_count": null,
      "outputs": [
        {
          "output_type": "stream",
          "name": "stdout",
          "text": [
            "Requirement already satisfied: langchain in /usr/local/lib/python3.10/dist-packages (0.1.10)\n",
            "Requirement already satisfied: openai in /usr/local/lib/python3.10/dist-packages (1.13.3)\n",
            "Requirement already satisfied: langchain-openai in /usr/local/lib/python3.10/dist-packages (0.0.8)\n",
            "Requirement already satisfied: PyYAML>=5.3 in /usr/local/lib/python3.10/dist-packages (from langchain) (6.0.1)\n",
            "Requirement already satisfied: SQLAlchemy<3,>=1.4 in /usr/local/lib/python3.10/dist-packages (from langchain) (2.0.27)\n",
            "Requirement already satisfied: aiohttp<4.0.0,>=3.8.3 in /usr/local/lib/python3.10/dist-packages (from langchain) (3.9.3)\n",
            "Requirement already satisfied: async-timeout<5.0.0,>=4.0.0 in /usr/local/lib/python3.10/dist-packages (from langchain) (4.0.3)\n",
            "Requirement already satisfied: dataclasses-json<0.7,>=0.5.7 in /usr/local/lib/python3.10/dist-packages (from langchain) (0.6.4)\n",
            "Requirement already satisfied: jsonpatch<2.0,>=1.33 in /usr/local/lib/python3.10/dist-packages (from langchain) (1.33)\n",
            "Requirement already satisfied: langchain-community<0.1,>=0.0.25 in /usr/local/lib/python3.10/dist-packages (from langchain) (0.0.25)\n",
            "Requirement already satisfied: langchain-core<0.2,>=0.1.28 in /usr/local/lib/python3.10/dist-packages (from langchain) (0.1.28)\n",
            "Requirement already satisfied: langchain-text-splitters<0.1,>=0.0.1 in /usr/local/lib/python3.10/dist-packages (from langchain) (0.0.1)\n",
            "Requirement already satisfied: langsmith<0.2.0,>=0.1.0 in /usr/local/lib/python3.10/dist-packages (from langchain) (0.1.14)\n",
            "Requirement already satisfied: numpy<2,>=1 in /usr/local/lib/python3.10/dist-packages (from langchain) (1.25.2)\n",
            "Requirement already satisfied: pydantic<3,>=1 in /usr/local/lib/python3.10/dist-packages (from langchain) (2.6.3)\n",
            "Requirement already satisfied: requests<3,>=2 in /usr/local/lib/python3.10/dist-packages (from langchain) (2.31.0)\n",
            "Requirement already satisfied: tenacity<9.0.0,>=8.1.0 in /usr/local/lib/python3.10/dist-packages (from langchain) (8.2.3)\n",
            "Requirement already satisfied: anyio<5,>=3.5.0 in /usr/local/lib/python3.10/dist-packages (from openai) (3.7.1)\n",
            "Requirement already satisfied: distro<2,>=1.7.0 in /usr/lib/python3/dist-packages (from openai) (1.7.0)\n",
            "Requirement already satisfied: httpx<1,>=0.23.0 in /usr/local/lib/python3.10/dist-packages (from openai) (0.27.0)\n",
            "Requirement already satisfied: sniffio in /usr/local/lib/python3.10/dist-packages (from openai) (1.3.1)\n",
            "Requirement already satisfied: tqdm>4 in /usr/local/lib/python3.10/dist-packages (from openai) (4.66.2)\n",
            "Requirement already satisfied: typing-extensions<5,>=4.7 in /usr/local/lib/python3.10/dist-packages (from openai) (4.10.0)\n",
            "Requirement already satisfied: tiktoken<1,>=0.5.2 in /usr/local/lib/python3.10/dist-packages (from langchain-openai) (0.6.0)\n",
            "Requirement already satisfied: aiosignal>=1.1.2 in /usr/local/lib/python3.10/dist-packages (from aiohttp<4.0.0,>=3.8.3->langchain) (1.3.1)\n",
            "Requirement already satisfied: attrs>=17.3.0 in /usr/local/lib/python3.10/dist-packages (from aiohttp<4.0.0,>=3.8.3->langchain) (23.2.0)\n",
            "Requirement already satisfied: frozenlist>=1.1.1 in /usr/local/lib/python3.10/dist-packages (from aiohttp<4.0.0,>=3.8.3->langchain) (1.4.1)\n",
            "Requirement already satisfied: multidict<7.0,>=4.5 in /usr/local/lib/python3.10/dist-packages (from aiohttp<4.0.0,>=3.8.3->langchain) (6.0.5)\n",
            "Requirement already satisfied: yarl<2.0,>=1.0 in /usr/local/lib/python3.10/dist-packages (from aiohttp<4.0.0,>=3.8.3->langchain) (1.9.4)\n",
            "Requirement already satisfied: idna>=2.8 in /usr/local/lib/python3.10/dist-packages (from anyio<5,>=3.5.0->openai) (3.6)\n",
            "Requirement already satisfied: exceptiongroup in /usr/local/lib/python3.10/dist-packages (from anyio<5,>=3.5.0->openai) (1.2.0)\n",
            "Requirement already satisfied: marshmallow<4.0.0,>=3.18.0 in /usr/local/lib/python3.10/dist-packages (from dataclasses-json<0.7,>=0.5.7->langchain) (3.21.0)\n",
            "Requirement already satisfied: typing-inspect<1,>=0.4.0 in /usr/local/lib/python3.10/dist-packages (from dataclasses-json<0.7,>=0.5.7->langchain) (0.9.0)\n",
            "Requirement already satisfied: certifi in /usr/local/lib/python3.10/dist-packages (from httpx<1,>=0.23.0->openai) (2024.2.2)\n",
            "Requirement already satisfied: httpcore==1.* in /usr/local/lib/python3.10/dist-packages (from httpx<1,>=0.23.0->openai) (1.0.4)\n",
            "Requirement already satisfied: h11<0.15,>=0.13 in /usr/local/lib/python3.10/dist-packages (from httpcore==1.*->httpx<1,>=0.23.0->openai) (0.14.0)\n",
            "Requirement already satisfied: jsonpointer>=1.9 in /usr/local/lib/python3.10/dist-packages (from jsonpatch<2.0,>=1.33->langchain) (2.4)\n",
            "Requirement already satisfied: packaging<24.0,>=23.2 in /usr/local/lib/python3.10/dist-packages (from langchain-core<0.2,>=0.1.28->langchain) (23.2)\n",
            "Requirement already satisfied: orjson<4.0.0,>=3.9.14 in /usr/local/lib/python3.10/dist-packages (from langsmith<0.2.0,>=0.1.0->langchain) (3.9.15)\n",
            "Requirement already satisfied: annotated-types>=0.4.0 in /usr/local/lib/python3.10/dist-packages (from pydantic<3,>=1->langchain) (0.6.0)\n",
            "Requirement already satisfied: pydantic-core==2.16.3 in /usr/local/lib/python3.10/dist-packages (from pydantic<3,>=1->langchain) (2.16.3)\n",
            "Requirement already satisfied: charset-normalizer<4,>=2 in /usr/local/lib/python3.10/dist-packages (from requests<3,>=2->langchain) (3.3.2)\n",
            "Requirement already satisfied: urllib3<3,>=1.21.1 in /usr/local/lib/python3.10/dist-packages (from requests<3,>=2->langchain) (2.0.7)\n",
            "Requirement already satisfied: greenlet!=0.4.17 in /usr/local/lib/python3.10/dist-packages (from SQLAlchemy<3,>=1.4->langchain) (3.0.3)\n",
            "Requirement already satisfied: regex>=2022.1.18 in /usr/local/lib/python3.10/dist-packages (from tiktoken<1,>=0.5.2->langchain-openai) (2023.12.25)\n",
            "Requirement already satisfied: mypy-extensions>=0.3.0 in /usr/local/lib/python3.10/dist-packages (from typing-inspect<1,>=0.4.0->dataclasses-json<0.7,>=0.5.7->langchain) (1.0.0)\n",
            "time: 7.94 s (started: 2024-03-04 08:29:46 +00:00)\n"
          ]
        }
      ]
    },
    {
      "cell_type": "code",
      "source": [
        "import os\n",
        "import openai\n",
        "import getpass"
      ],
      "metadata": {
        "id": "UikrwhlLbXPG",
        "colab": {
          "base_uri": "https://localhost:8080/"
        },
        "outputId": "ca477d8b-83c9-416a-be5b-97cdd5641ee7"
      },
      "execution_count": null,
      "outputs": [
        {
          "output_type": "stream",
          "name": "stdout",
          "text": [
            "time: 439 µs (started: 2024-03-04 08:29:56 +00:00)\n"
          ]
        }
      ]
    },
    {
      "cell_type": "code",
      "source": [
        "openai_key = getpass.getpass(\"OpenAI API Key:\")\n",
        "os.environ[\"OPENAI_API_KEY\"] = openai_key\n",
        "openai.api_key = openai_key"
      ],
      "metadata": {
        "colab": {
          "base_uri": "https://localhost:8080/"
        },
        "outputId": "7d89f02a-9e83-4bac-d90f-b3811d4d18cb",
        "id": "CqbfptOnbXPG"
      },
      "execution_count": null,
      "outputs": [
        {
          "output_type": "stream",
          "name": "stdout",
          "text": [
            "OpenAI API Key:··········\n",
            "time: 9.15 s (started: 2024-03-04 08:29:58 +00:00)\n"
          ]
        }
      ]
    },
    {
      "cell_type": "code",
      "execution_count": null,
      "metadata": {
        "id": "QHW21Y8WbXPH"
      },
      "outputs": [],
      "source": []
    },
    {
      "cell_type": "code",
      "source": [],
      "metadata": {
        "id": "ffwFp26_bXPH"
      },
      "execution_count": null,
      "outputs": []
    },
    {
      "cell_type": "markdown",
      "source": [
        "### create_extraction_chain"
      ],
      "metadata": {
        "id": "RTjpQPtjbXPH"
      }
    },
    {
      "cell_type": "code",
      "source": [
        "from langchain.chains import create_extraction_chain\n",
        "from langchain_openai import ChatOpenAI"
      ],
      "metadata": {
        "id": "FVyFDJlGbXPI",
        "colab": {
          "base_uri": "https://localhost:8080/"
        },
        "outputId": "6de2e1e4-5f37-484e-efc8-eb9f2a0cb996"
      },
      "execution_count": null,
      "outputs": [
        {
          "output_type": "stream",
          "name": "stdout",
          "text": [
            "time: 619 µs (started: 2024-03-04 08:30:12 +00:00)\n"
          ]
        }
      ]
    },
    {
      "cell_type": "code",
      "source": [
        "# Schema\n",
        "schema = {\n",
        "    \"properties\": {\n",
        "        \"name\": {\"type\": \"string\"},\n",
        "        \"height\": {\"type\": \"integer\"},\n",
        "                  },\n",
        "    \"required\": [\"name\", \"height\"],\n",
        "         }\n",
        "\n",
        "# Input\n",
        "inp = docs[0].page_content\n",
        "\n",
        "# Run chain\n",
        "llm = ChatOpenAI(temperature=0, model=\"gpt-3.5-turbo\")\n",
        "chain = create_extraction_chain(schema, llm)\n",
        "chain.run(inp)"
      ],
      "metadata": {
        "colab": {
          "base_uri": "https://localhost:8080/"
        },
        "outputId": "6dfb9858-bfdc-4c1c-f54f-2e15fe59a012",
        "id": "KvJW4MB-bXPI"
      },
      "execution_count": null,
      "outputs": [
        {
          "output_type": "stream",
          "name": "stderr",
          "text": [
            "/usr/local/lib/python3.10/dist-packages/langchain_core/_api/deprecation.py:117: LangChainDeprecationWarning: The function `run` was deprecated in LangChain 0.1.0 and will be removed in 0.2.0. Use invoke instead.\n",
            "  warn_deprecated(\n"
          ]
        },
        {
          "output_type": "execute_result",
          "data": {
            "text/plain": [
              "[{'name': 'Жилой полевой комплекс', 'height': 183}]"
            ]
          },
          "metadata": {},
          "execution_count": 45
        },
        {
          "output_type": "stream",
          "name": "stdout",
          "text": [
            "time: 1.24 s (started: 2024-03-04 08:30:15 +00:00)\n"
          ]
        }
      ]
    },
    {
      "cell_type": "code",
      "source": [],
      "metadata": {
        "id": "UNWJVvRgbXPJ"
      },
      "execution_count": null,
      "outputs": []
    },
    {
      "cell_type": "markdown",
      "source": [
        "### 2 с помощью pydantic"
      ],
      "metadata": {
        "id": "E3nyVo6MbXPK"
      }
    },
    {
      "cell_type": "code",
      "source": [
        "from typing import Optional\n",
        "from langchain.chains import create_extraction_chain_pydantic\n",
        "from langchain_core.pydantic_v1 import BaseModel"
      ],
      "metadata": {
        "id": "HkA8e2cbbXPL",
        "colab": {
          "base_uri": "https://localhost:8080/"
        },
        "outputId": "2a8f0825-009b-49f2-ee58-16fab64fc06e"
      },
      "execution_count": null,
      "outputs": [
        {
          "output_type": "stream",
          "name": "stdout",
          "text": [
            "time: 738 µs (started: 2024-03-04 08:30:24 +00:00)\n"
          ]
        }
      ]
    },
    {
      "cell_type": "code",
      "source": [
        "class Properties(BaseModel):\n",
        "    name: str"
      ],
      "metadata": {
        "id": "yy7o6DQXbXPL",
        "colab": {
          "base_uri": "https://localhost:8080/"
        },
        "outputId": "50743e83-1bdc-480f-9503-cb8867fba281"
      },
      "execution_count": null,
      "outputs": [
        {
          "output_type": "stream",
          "name": "stdout",
          "text": [
            "time: 1.49 ms (started: 2024-03-04 08:30:27 +00:00)\n"
          ]
        }
      ]
    },
    {
      "cell_type": "code",
      "source": [
        "chain = create_extraction_chain_pydantic(pydantic_schema=Properties, llm=llm)"
      ],
      "metadata": {
        "id": "lzUMuTjSbXPL",
        "colab": {
          "base_uri": "https://localhost:8080/"
        },
        "outputId": "014a90f6-0cea-490e-c97d-718fbaefbf53"
      },
      "execution_count": null,
      "outputs": [
        {
          "output_type": "stream",
          "name": "stdout",
          "text": [
            "time: 2.73 ms (started: 2024-03-04 08:30:29 +00:00)\n"
          ]
        }
      ]
    },
    {
      "cell_type": "code",
      "source": [
        "inp = docs[0].page_content\n",
        "chain.run(inp)"
      ],
      "metadata": {
        "colab": {
          "base_uri": "https://localhost:8080/"
        },
        "outputId": "22815f3f-5f20-48ff-df1e-c897c29018bf",
        "id": "Elz-0ipCbXPM"
      },
      "execution_count": null,
      "outputs": [
        {
          "output_type": "execute_result",
          "data": {
            "text/plain": [
              "[Properties(name='Жилой полевой комплекс')]"
            ]
          },
          "metadata": {},
          "execution_count": 49
        },
        {
          "output_type": "stream",
          "name": "stdout",
          "text": [
            "time: 1.11 s (started: 2024-03-04 08:30:31 +00:00)\n"
          ]
        }
      ]
    },
    {
      "cell_type": "code",
      "source": [],
      "metadata": {
        "id": "FM20KYc0bXPM"
      },
      "execution_count": null,
      "outputs": []
    },
    {
      "cell_type": "markdown",
      "source": [
        "# pdf"
      ],
      "metadata": {
        "id": "00bLwIpFDrL_"
      }
    },
    {
      "cell_type": "markdown",
      "source": [
        "## Чтение файлов"
      ],
      "metadata": {
        "id": "facv9NnbdxLW"
      }
    },
    {
      "cell_type": "code",
      "source": [
        "zip_file = '/content/drive/MyDrive/Intern/RusExpress/pdf.zip'\n",
        "extract_to = 'pdf'\n",
        "\n",
        "load_and_extract(zip_file, extract_to)"
      ],
      "metadata": {
        "id": "BUuzy6UjdxLm"
      },
      "execution_count": null,
      "outputs": []
    },
    {
      "cell_type": "markdown",
      "source": [
        "### PyPDFLoader"
      ],
      "metadata": {
        "id": "rui06un-hM95"
      }
    },
    {
      "cell_type": "code",
      "source": [
        "!pip install pypdf"
      ],
      "metadata": {
        "colab": {
          "base_uri": "https://localhost:8080/"
        },
        "id": "v950eaOXDmGQ",
        "outputId": "a4a3cadd-975a-45f4-f57f-7276d80fb5cb"
      },
      "execution_count": null,
      "outputs": [
        {
          "output_type": "stream",
          "name": "stdout",
          "text": [
            "Collecting pypdf\n",
            "  Downloading pypdf-4.0.2-py3-none-any.whl (283 kB)\n",
            "\u001b[?25l     \u001b[90m━━━━━━━━━━━━━━━━━━━━━━━━━━━━━━━━━━━━━━━━\u001b[0m \u001b[32m0.0/284.0 kB\u001b[0m \u001b[31m?\u001b[0m eta \u001b[36m-:--:--\u001b[0m\r\u001b[2K     \u001b[91m━━━━━━━━━━━━━━━━━━━━━━━━━━━━━━━━━━━━━━\u001b[0m\u001b[91m╸\u001b[0m\u001b[90m━\u001b[0m \u001b[32m276.5/284.0 kB\u001b[0m \u001b[31m8.3 MB/s\u001b[0m eta \u001b[36m0:00:01\u001b[0m\r\u001b[2K     \u001b[90m━━━━━━━━━━━━━━━━━━━━━━━━━━━━━━━━━━━━━━━━\u001b[0m \u001b[32m284.0/284.0 kB\u001b[0m \u001b[31m6.2 MB/s\u001b[0m eta \u001b[36m0:00:00\u001b[0m\n",
            "\u001b[?25hInstalling collected packages: pypdf\n",
            "Successfully installed pypdf-4.0.2\n"
          ]
        }
      ]
    },
    {
      "cell_type": "code",
      "source": [
        "from langchain_community.document_loaders import PyPDFLoader\n",
        "\n",
        "loader = PyPDFLoader('/content/pdf/0111300005122000533.pdf')\n",
        "pages = loader.load_and_split()\n",
        "pages[0]"
      ],
      "metadata": {
        "colab": {
          "base_uri": "https://localhost:8080/"
        },
        "id": "Geedl1XCDmDS",
        "outputId": "f4c17dc3-f2ee-4cd1-9fda-49a630bbf3eb"
      },
      "execution_count": null,
      "outputs": [
        {
          "output_type": "execute_result",
          "data": {
            "text/plain": [
              "Document(page_content='Описание объекта закупки  \\nна поставку спортивного инвентаря\\n1. Наименование организации: МБОУ «Средняя общеобразовательная школа Ж  1  с углубленным изучением отдельных предметов» НМР РТ\\n2. Предмет контракта: поставка спортивного инвентаря\\n3. Место поставки: 423570, РТ, г. Нижнекамск, пр. Мира д. 16\\n4. Сроки поставки: В течение 1  5 календарных дней с момента заключения контракта\\n5. Наименование, характеристики, количество товара:\\n№\\nп/пНаименование товара ХарактеристикаЕд.\\nизм.Кол-\\nво\\nТурник разнохватовый \\nОКПД 2: 32.30.14.119,  \\nКТРУ: 32.30.14.119-  \\n00000074\\n[Способ хвата: классический;\\nСпособ установки: навесное;\\nРабочая длина перекладины (Миллиметр): < 1200;\\nНаличие функции регулировки по высоте: нет;\\nМинимальная высота перекладины (Миллиметр): > 900; \\nМаксимальная высота перекладины (Миллиметр): < 1500; \\nКомплектность: неопреновые ручки; стойка для пресса; брусья; \\nМаксимальная масса пользователя (Килограмм): < 120штука\\nОбруч гимнастический \\nОКПД 2: 32.30.14.120,  \\nКТРУ: 32.30.14.120-  \\n00000005Вес (Килограмм): 5 0.5:\\nДля художественной гимнастики: да;\\nПлоский: да;\\nМатериал: пластик;\\nДиаметр (Сантиметр): > 50 и < 70;\\nВозрастные группы спортсменов (женский пол): 10 лет; \\nВозрастные группы спортсменов (мужской пол): 9-10 лет; \\nСоответствие стандартам FIG: да;\\nКомплектация: с магнитными вставкамиштука 30', metadata={'source': '/content/pdf/0111300005122000533.pdf', 'page': 0})"
            ]
          },
          "metadata": {},
          "execution_count": 28
        }
      ]
    },
    {
      "cell_type": "code",
      "source": [],
      "metadata": {
        "id": "7AqHq7yPdK86"
      },
      "execution_count": null,
      "outputs": []
    },
    {
      "cell_type": "markdown",
      "source": [
        "### UnstructuredPDFLoader"
      ],
      "metadata": {
        "id": "WSaJMTrYhTK5"
      }
    },
    {
      "cell_type": "code",
      "source": [
        "!pip install pdf2image\n",
        "!pip install pdfminer.six\n",
        "!pip install pillow-heif\n",
        "!pip install unstructured-inference\n",
        "!pip install pikepdf"
      ],
      "metadata": {
        "id": "v79pHqUqbXPJ"
      },
      "execution_count": null,
      "outputs": []
    },
    {
      "cell_type": "code",
      "source": [
        "from langchain_community.document_loaders import UnstructuredPDFLoader"
      ],
      "metadata": {
        "id": "9YI_Z2ZJbXPJ"
      },
      "execution_count": null,
      "outputs": []
    },
    {
      "cell_type": "code",
      "source": [
        "loader = UnstructuredPDFLoader('/content/pdf/0111300005122000533.pdf')\n",
        "\n",
        "data = loader.load()\n",
        "\n",
        "data[0]"
      ],
      "metadata": {
        "id": "cR2JJBX6bXPJ",
        "colab": {
          "base_uri": "https://localhost:8080/"
        },
        "outputId": "2f5189ae-fd4b-4e05-f9a1-08d147a52463"
      },
      "execution_count": null,
      "outputs": [
        {
          "output_type": "execute_result",
          "data": {
            "text/plain": [
              "Document(page_content='О писание объекта закупки на поставку спортивного инвентаря\\n\\n1. Н а и м ен о в а н и е организации: МБОУ «Средняя общеобразовательная школа Ж 1 с углубленным изучением отдельных предметов» НМР РТ 2. П р едм ет контракта: поставка спортивного инвентаря 3. М есто поставки: 423570, РТ, г. Нижнекамск, пр. М ира д. 16 4. Сроки поставки: В течение 1 5 календарных дней с момента заключения контракта 5. Н аи м ен ов а н и е, характеристики, количество товара: № п/п\\n\\nН а и м ен о в а н и е товара\\n\\nХарактеристика\\n\\nТ у р н и к разнохватовый О К П Д 2: 32.30.14.119, К Т Р У : 32.30.14.119- 00000074\\n\\nСпособ хвата: классический; Способ установки: навесное; Рабочая длина перекладины (Миллиметр): < 1200; Наличие функции регулировки по высоте: нет; Минимальная высота перекладины (Миллиметр): > 900; Максимальная высота перекладины (Миллиметр): < 1500; Комплектность: неопреновые ручки; стойка для пресса; брусья; Максимальная масса пользователя (Килограмм): < 120\\n\\n[\\n\\nО бруч гимнастический О К П Д 2: 32.30.14.120, К Т Р У : 32.30.14.120- 00000005\\n\\nВес (Килограмм): 5 0.5: Для художественной гимнастики: да; Плоский: да; Материал: пластик; Диаметр (Сантиметр): > 50 и < 70; Возрастные группы спортсменов (женский пол): 10 лет; Возрастные группы спортсменов (мужской пол): 9-10 лет; Соответствие стандартам FIG: да; Комплектация: с магнитными вставками\\n\\nЕд. изм.\\n\\nштука\\n\\nштука\\n\\nКол- во\\n\\n30\\n\\n> J.\\n\\n4.\\n\\n5.\\n\\n6.\\n\\n7.\\n\\n8.\\n\\n9.\\n\\nО б руч гимнастический О К П Д 2: 32.30.14.120, ЬСТРУ: 32.30.14.120- 00 000 0 0 5\\n\\nК л ю ш к а для флорбола О К П Д 2: 32.30.15.117, К Т Р У : 32.30.15.117- 0 000 0 0 0 4\\n\\nГ р ан ат а для метания О К П Д 2: 32.30.14.119, К Т Р У : 32.30.14.119- 00000 02 3 Г р ан а т а для метания О К П Д 2: 32.30.14.119, К Т Р У : 32.30.14.119- 00 000 02 3 Б арьер легкоатлетический О К П Д 2: 32.30.14.113, К Т Р У : 32.30.14.113- 0 000 003 6\\n\\nО п редели тель высоты п р ы ж к а О К П Д 2: 32.30.14.119, К Т Р У : 32.30.14.119- 00 000013\\n\\nП л ан к а для прыжков О К П Д 2: 32.30.14.113, К Т Р У : 32.30.14.113-\\n\\nВес (Килограмм): < 0.5; Для художественной гимнастики: да; Плоский: да; Материал: пластик; Диаметр (Сантиметр): > 70 и < 90; Возрастные группы спортсменов (женский пол): 13-15 лет; Возрастные группы спортсменов (мужской пол): 13-15 лет; Соответствие стандартам F1G: да; Комплектация: с магнитными вставками Длина (Сантиметр): > 65 и < 75; Загиб (хват): без загиба; Жесткость (Миллиметр): > 27 и < 29; Жесткость палки (прогиб под нагрузкой 30 кг) (Миллиметр): > 27 и < 29 ГОСТ Р 58705-2019 «Клюшки для игры в флорбол» Вес (Грамм):500; Д лина (Миллиметр): > 236; Диаметр (Миллиметр):> 48: Материал: металл; дерево Вес (Грамм): 700; Д лина (Миллиметр): > 236; Диаметр (Миллиметр): > 4 8 ; Материал: металл; дерево Тип конструкции: разборная; Наличие регулировки по высоте: да; Высота барьера (Метр): < 0.762; Ш ирина барьера (Метр): < 1.18; Длина основания барьера (Метр): < 0.7; Наличие противовесов: нет; Материал каркаса: пластик Длина (Миллиметр): < 1400; Ш ирина (Миллиметр): < 1000; Тип: напольный; Толщина профиля несущей конструкции (Миллиметр):> 2 и < 5: Ш ирина профиля несущей конструкции (Миллиметр): > 40 и < 60; Ш аг по высоте измерения (Миллиметр): < 50 Длина планки (Метр): > 4; Материал планки: алюминий; Материал наконечников планки: резина\\n\\nштука\\n\\nштука\\n\\nштука\\n\\nштука\\n\\nштука\\n\\nштука\\n\\nштука\\n\\n30\\n\\n30\\n\\nо 3\\n\\nо 3\\n\\n20\\n\\n2\\n\\n2\\n\\n00000008\\n\\n1 0. С то й к а для прыжков в\\n\\nвы соту О К П Д 2: 32.30.14.113, К Т Р У : 32.30.14.113- 00000024\\n\\nВысота (Сантиметр): < 2 0 0 ; Материал: сталь; Шкала измерения высоты планки: да; Регулируемая: да; Планка в комплекте: да; Разборная: да; Наличие ползунов: да\\n\\nИтого:\\n\\nК ачество поставляемого товара должно соответствовать требованиям действующих технических регламентов, государственных стандартов,\\n\\nтехн и чески м условиям производителя товара и требованиям настоящего Технического задания.\\n\\n3.2. Гарантии качества распространяются на товар, поставленный по Контракту, в том числе на все выполненные сопутствующие работы, на срок не\\n\\nменее 12 (двенадцати) месяцев, с даты подписания Акта приемки-передачи товара.\\n\\n3.3. В случае если в течение гарантийного срока товар окажется дефектным или не будет соответствовать условиям Контракта, не достигнет обусловленной производительности либо утратит ее не по вине Заказчика, Поставщик обязан за свой счет устранить дефекты или заменить дефектный товар на исправный, поставляемый в согласованные Сторонами сроки.\\n\\n3.4. Замена бракованного товара осуществляется за счет Поставщика. Некачественный товар возвращается Поставщику за его счет после поставки\\n\\nнового товара.\\n\\n3.5. Поставщик обязан обеспечить устранение недостатков или замену товара в пределах гарантийного срока в течение 10 (десяти) календарных дней с\\n\\nмомента поступления соответствующ его письменного уведомления от Заказчика.\\n\\n3.6. Устранение деф ектов осуществляется с выездом на место установки товара в течение 24 (двадцати четырех) часов с момента поступления заявки. В\\n\\nслучае невозмож ности произвести ремонт в указанный срок Заказчику предоставляется функционально аналогичный товар на время ремонта.\\n\\n3.7. Поставщ ик освобождается от выполнения гарантийных обязательств в случаях, если: услови я эксплуатации не с о о т а ^ с т в у ю т требованиям, изложенным в инструкциях по эксплуатации товара; имею тся механические пов#рЩ&уйя, возникшие по вине Заказчика, повлекшие неисправности товара.\\n\\nК онтр актн ы й управляю щий\\n\\nЩ ербаков О.О.\\n\\nштука\\n\\nштука\\n\\n2\\n\\n127', metadata={'source': '/content/pdf/0111300005122000533.pdf'})"
            ]
          },
          "metadata": {},
          "execution_count": 2
        }
      ]
    },
    {
      "cell_type": "code",
      "source": [],
      "metadata": {
        "id": "BCMXj9PubXPJ"
      },
      "execution_count": null,
      "outputs": []
    },
    {
      "cell_type": "markdown",
      "source": [
        "### extract_images - не работает с русским языком"
      ],
      "metadata": {
        "id": "45f-qGighmV2"
      }
    },
    {
      "cell_type": "code",
      "source": [
        "!pip install rapidocr-onnxruntime"
      ],
      "metadata": {
        "id": "cju6VPFYbXPK"
      },
      "execution_count": null,
      "outputs": []
    },
    {
      "cell_type": "code",
      "source": [
        "from langchain_community.document_loaders import PyPDFLoader"
      ],
      "metadata": {
        "id": "bTgqjE9XbXPK"
      },
      "execution_count": null,
      "outputs": []
    },
    {
      "cell_type": "code",
      "source": [
        "loader = PyPDFLoader('/content/pdf/0111300005122000490.pdf', extract_images=True)\n",
        "\n",
        "pages = loader.load()\n",
        "\n",
        "pages"
      ],
      "metadata": {
        "id": "ivlklxKPbXPK",
        "colab": {
          "base_uri": "https://localhost:8080/"
        },
        "outputId": "2b085dc3-2d6b-44d1-85a9-5c6abe061fe5"
      },
      "execution_count": null,
      "outputs": [
        {
          "output_type": "execute_result",
          "data": {
            "text/plain": [
              "[Document(page_content='HepeyeHb TOBapOB B cocTaBe o6beKTa 3aKyIIKH:\\n《DH3HyecKaa KyJIbTypa》.\\nPe3yJIBTaTOM HCIIOJIHeHHA KOHTpaKTa IOJIKeH 6BITE COpMHpOBaHHBI0 KJIacC-KOMIJIeKT, rOTOBBI0 K peaJIN3aHINH O6pa3OBaTeJIBHBIX IpOrpaMM IIO IpeIMeTy\\nTpe6oBaHHA K Pe3yJIbTaTy HCHIOJIHeHHa KOHTpaKTa:\\nTeXHHYeCKHMN W KaYeCTBeHHbIMN XapaKTepHCTHKaMN.\\nJOIOJIHNTeJIBHBIe Tpe6OBaHHA O6yCJIOBJIeHBI HeOOXOJHMOCTbIOHOJIyYeHHA TOBapa CO 3HaYUMBIMH B O6pa3OBaTeJIHHOM IpOIeCCe DyHKIHOHaJIbHBIMH,\\n3aKoHoJaTeJIbcTBomPoccuicKoi DeIepaunocTaHIapTH3auun:\\nPeryJIHPOBaHHH,JOKyMeHTaMu,Pa3pa6aTHIBaeMbIMH H IpHMeHHeMbIMH B HaUHOHaJIbHOi cHCTeMe CTaHapTH3aIHH,IPHHATbIMH B cOOTBeTCTBHH c\\nHPeIyCMOTpeHHLIX TeXHHYeCKHMH perJIaMeHTaMH,IpHHATbIMH B cOOTBeTCTBHH c 3aKOHOIaTeJILCTBOMPoccuicKOi DeIepaUUN O TeXHNyecKOM\\nO6OCHOBaHHe He06XOJHMOCTH HCHOJIb3OBaHHA IOKa3aTeJIe,TPe6OBaHN,yCJIOBHbIX 06O3HaYeHNi H TepMHHOJIOrHN, OTJINyHbIX OT CTaHIapTHbIX,\\nOKII2/KTPY\\n32.30.14.120-\\n32.30.14.120/\\n32.30.14.119-\\n32.30.14.119/\\n32.30.14.112-\\n32.30.14.112/\\n00000004\\n00000023\\n00000056\\nTHMHaCTHYeCKUY\\nHaNMeHOBaHNe\\nCHOPTHBHaa\\nTpaHaTa IA\\nMETaHNA\\nCKaKaJIKH\\nO6pyu\\nTOBapa\\n 1 1      1 1\\nBec: He MeHee O,5 Kr H He 6oJIee 1 KF.\\nHIpOH3BOICTBO: POCCHA.\\nBec: 170 r.\\nIHHa: He MeHee 252 MM.\\nHoKpHITHe CTaKaHa: HUTpo3MaJIb.\\nMaTepuaJ pyuKH: IepeBO.\\nTOCT P 55789-2019. \"O6opyIOBaHHe H HHBeHTap CHIOpTHBHBIe. TepMHHB1 H\\nIuaMeTpHeMeHee48MM.\\nHaHOJIHNTeJIb: MeTaJINYeCKaY KpOHKa.\\nMaTepuaJ1 IHypa: Pe3HHa.\\nIIHHaWHypa:HeMeHee300 cM.\\nOIIMCAHMEOEDEKTA3AKYIIKH\\nXapaKTepucTuKH\\nEI.H3M.\\nILIT.\\nILIT.\\nILIT.\\nKoJI-\\nBO', metadata={'source': '/content/pdf/0111300005122000490.pdf', 'page': 0}),\n",
              " Document(page_content='32.30.12.110-\\n32.30.12.110/\\n32.30.12.110-\\n32.30.12.110/\\n32.30.12.110-\\n32.30.12.110/\\n32.30.11.122-\\n32.30.11.122/\\n32.30.14.113-\\n32.30.14.113/\\n00000002\\n00000002\\n00000002\\n00000002\\n00000036\\n《HJIH3KBHBaJIeHT>\\nBOTHHKH JIBIKHbIe\\n《HJIN KBHBAJIEHT>>\\nBOTHHKH JIBIKHBIE\\n《HJIH ЗKBHBaJIEHT>\\nBOTHHKH JIBIKHBIE\\nHaJIKH JIBIKHBIe\\nTpeHHpOBOK\\nBapbep A\\n《TREK>>\\n《TREK》\\n《TREK>\\nPa3Mep:33\\nHpHHaIJIeKHOCTB: JETCKHe.\\nHa3HayeHHe: CHOpTHBHO-6erOBBIe.\\nFOCT 11373-88 \"O6yBb. Pa3Mepb1\"\\nPa3Mep: 32\\nMETOIBI HCIIBITaHNA\"\\nHpHHaJJIeXKHOCTb: JETCKHe.\\nHa3HayeHHe:CHIOpTHBHO-6erOBbIe.\\nTOCT 11373-88\"O6yBb. Pa3Mepb1\"\\nMETOIBI HCHIHITaHUY\"\\nPa3Mep: 31\\nHpHHaIJIeKHOCTB: JETCKHe.\\nHa3HaYeHNe: CHIOpTHBHO-6erOBbIe.\\nTexHNYeCKHe yCJIOBHA\"\\nTOCT P 51970-2002 \"TIaJKH JIBIKHbIe IpOryJIOuHBIe H rOHOuHbIe CHIOpTHBHBIe.\\nDOpMa: KOHHYeCKaX, IUJINHIpHYeCKax.\\nTulr: TporyIouHbIn.\\nIIHHa: 1500 MM (10 WT.).\\nFOCT ISO 5355-2014 \"O6yBb. boTUHKH rOpHOJIBIKHBIe. O6mNe Tpe60BaHH8 H\\nJIHHa: 1450 MM (10 IT.)\\nUHa: 1400 MM (10 T.)\\nIIUHa: 1350 MM (10 uIT.).\\nHCIIbITaHHicy4eTOM6e3ONIaCHOCTH\\nHpON3BOIHTEJ: POCCHA\\nBec: He 6ojiee 1 kr.\\nILupuHa: He 6oJee 89 cM.\\nPa3Mep: BbIcOTa HeMeHee 8 H He 6oJIee 60 cM.\\nMaTepHaJI: IJIacTHK.\\nLBET OCHOBHOY: KeJITHIY.\\nTpe6OBaHNA H MeTOIbI\\nHapa\\nHapa\\nHapa\\nHapa\\nIIr.', metadata={'source': '/content/pdf/0111300005122000490.pdf', 'page': 1}),\n",
              " Document(page_content='32.30.12.110-\\n32.30.12.110/\\n32.30.12.110-\\n32.30.12.110/\\n32.30.12.110-\\n32.30.12.110/\\n32.30.12.110-\\n32.30.12.110/\\n00000002\\n00000002\\n00000002\\n00000002\\n《HJIHЗKBHBaJIEHT>\\nBOTHHKH JIBIKHBIE\\nBOTHHKH JIBIKHBIE\\n《HJIN3KBHBaJIEHT\\nBOTHHKH JIBIKHBIE\\n《HJIN 3KBNBaJIEHT\\nBOTHHKH JIBIKHBIE\\n《TREK》\\n《TREK》\\n《TREK》\\n《TREK>\\nPa3Mep:37\\nTOCT 11373-88 \"O6yBb. Pa3Mepb1\"\\nHpHHaJIeKHOCTb: JETCKHe.\\nHa3HayeHHe: CIOpTHBHO-6erOBBIe.\\nMETOILIHCHIbITaHNY\\'\\nTOCT 11373-88\"O6yBb. Pa3Mepb1\"\\nTOCT ISO 5355-2014 \"O6yBb. BoTHHKH rOpHOJIBIKHBIe. O6IHe Tpe6oBaHH8 H\\nPa3Mep: 36\\nHpHHaJeKHOCTb: JETCKHe.\\nHa3HaYeHHe: CHIOpTHBHO-6erOBbIe.\\nTOCT 11373-88 \"O6yBb. Pa3Mepb1\"\\nPa3Mep: 35\\nIpHHaIJIeKHOcTb: JeTCKHe.\\nHa3HaYeHHe: CHIOpTHBHO-6erOBBIe.\\nTOCT 11373-88\"O6yBb. Pa3Mepb1\"\\nPa3Mep: 34\\nMETOIBI HCIIBITaHUN\\'\\nMETOILI HCHIHITaHNN\\'\\nFOCT ISO 5355-2014 \"O6yBb. BoTHHKH rOpHOJIBIKHHIe. O6He Tpe6oBaHHA H\\nHpHHaIJeKHOcTb: JETCKHe.\\nHa3HaYeHHe: CHIOpTHBHO-6erOBBIe.\\nMETOIHI HCIBITaHN\"\\nTOCT 11373-88 \"O6yBB. Pa3Mepb1\"\\nMETOIBI HCHBITaHNN\\'\\nHapa\\nHapa\\nHapa\\nHapa', metadata={'source': '/content/pdf/0111300005122000490.pdf', 'page': 2}),\n",
              " Document(page_content='32.30.11.110-\\n32.30.11.110/\\n32.30.12.110-\\n32.30.12.110/\\n32.30.12.110-\\n32.30.12.110/\\n32.30.12.110-\\n32.30.12.110/\\n32.30.12.110-\\n32.30.12.110/\\n00000005\\n00000002\\n00000002\\n00000002\\n00000002\\n《HJINKBHBaJIEHT>>\\n《HJIN3KBHBAJIEHT>\\nBOTHHKH JIBIKHBIe\\n《HJIN 3KBHBaJIEHT>\\nBOTUHKH JIBIKHBIE\\n《HJIN ЗKBHBaJIEHT>\\nBOTHHKH JIBIKHBIE\\n《HJIHKBHBaJIEHT》>\\nBOTHHKH JIBIKHBIE\\nJIbIKH 《Step》\\n《TREK》\\n《TREK》>\\n《TREK>\\n《TREK》\\nFOCT 17043-90 \"JIb1Kn\"\\nDopMa JIbIK: KJaccHyecKaa.\\nHoJOBOY IpU3HaK: YHHBepcaJIbHBIe.\\nJMHa JIbIK: He MeHee 140 cM H He 6oJIee 160 cM.\\nBHI: CHOpTUBHO-6erOBbIe.\\nTOCT 11373-88 \"O6yBb. Pa3Mepbr\"\\nPa3Mep: 41\\nMETOIBI HCHIBITaHUN\"\\nHIpHHaJIeKHOCTb: JeTCKHe.\\nHa3HaYeHHe: CHOpTHBHO-6erOBBIe.\\nFOCT 11373-88 \"O6yBb. Pa3Mepb1\"\\n        \\nPa3Mep: 40\\nMETOIHI HCIBITaHNY\"\\nHIpHHaJIeKHOcTb: JETCKHe.\\nHa3HaYeHHe: CHIOpTHBHO-6erOBLIe.\\nTOCT 11373-88 \"O6yBb. Pa3Mepb1\"\\nPa3Mep: 39\\nMETOIBI HCHIBITaHNY\"\\nHpHHaIJeXKHOcTb: JeTCKHe.\\nHa3HaYeHHe: CHIOpTHBHO-6erOBBIe.\\nTOCT 11373-88\"O6yBb. Pa3Mepb\"\\nTOCT ISO 5355-2014 \"O6yBb. BoTHHKH rOpHOJIBIKHBIe. O61IHe Tpe6OBaHHA H\\nPa3Mep: 38\\nHpHHaJIeKHOCTH: JeTCKHe.\\nHa3HaYeHHe: cHIOpTHBHO-6erOBBIe.\\nMETOIHI HCIIBITaHNY\\'\\nHapa\\nHapa\\nHapa\\nHapa\\nHapa', metadata={'source': '/content/pdf/0111300005122000490.pdf', 'page': 3}),\n",
              " Document(page_content='32.30.14.119\\n32.30.14.116-\\n32.30.14.116/\\n32.30.14.113\\n32.30.14.113/\\n32.30.14.119\\n32.30.14.119/\\n32.30.14.119\\n32.30.11.121-\\n32.30.11.121/\\n32.30.11.110-\\n32.30.11.110/\\n32.30.11.110-\\n32.30.11.110/\\n00000011\\n00000040\\n00000108\\n00000001\\n00000005\\n00000005\\nKpeIJIeHNe WIA JIBIK\\n《HJIN 3KBHBaJIEHT>\\n《HJIN ЗKBHBaJIEHT>>\\n《HJINKBHBaJIEHT>\\nrHMHaCTHYeCKay\\npa3MeTOyHbIe\\n《Trek Active>\\nJIbIKH 《Step》\\ncTapeTHay\\nJIbKH 《Step》\\nTaTaMH\\nHaJIOyka.\\nKOHyCbI\\nDHKH\\nHaJIKa\\nMaTepnaJI: IJIacTHK.\\nJuHa: He MeHee 110 cM.\\nBec: He MeHee 82 r.\\nJuaMeTp Tpy6kn: He MeHee 22 MM.\\nTpe60BaHNg 6e30IaCHOCTH\\nTOCT P 55669-2013 MaTHI CHIOpTHBHbIe. HaCTb 3. MaTHI WIM 6opb6B1 I3IOH0.\\nMaTepHaJ HaIOJHUTeJIA: IIBB.\\nJIUHa ceKIIHN:He MeHee 100O MM.\\nuaMeTp: He 6oJIee 30MM.\\nIuHaHeMeHee30cMH He6oJIee35cM.\\nTHI: KOHy\\nBbIcOTa: HeMeHee20 cM W He 6oJIee30 cM.\\nTu: Φuka.\\nBbIcOTa: He MeHee 5 cM.\\n①uKH: IMaMeTp He MeHee 20 cM.\\nJepKaTeJIb: BBICOTa He MeHee 24 cM.\\nKoJNYeCTBO: 50 mITyK.\\nCHcTeMa KpeJeHHa: Turnamic.\\nTOCT 17043-90 \"JIb1KH\"\\nΦopMa JbIK: KJIaccHyecKaq.\\nHoJOBOn IpN3HaK: YHHBepcaJBHBIe.\\nIHHa JIBIK: He MeHee 180 cM H He 6oJIee 200 cM.\\nBHI: CHOpTHBHO-6erOBBIe.\\nFOCT 17043-90\"JIbIDKH\"\\nPopMa JbIK: KJIaccnyecKaa.\\nHoJIOBOY 1IpN3HaK: yHHBepcaJIbHbIe.\\nIIUHa JIBIK: He MeHee 160 cM H He 6oJIee 180 cM.\\nBHI: CHIOpTHBHO-6erOBBIe.\\nHapa\\nHapa\\nHapa\\nILIT.\\nILIr.\\nILIT.\\nILIT.\\nIIIT.', metadata={'source': '/content/pdf/0111300005122000490.pdf', 'page': 4}),\n",
              " Document(page_content='KOHTpaKTHBIn yIIpaBJIAIO\\nTpe6oBaHMA K IpeJOcTaBJIeHHIo rapaHTHn IpoH3BOIHTeJIH M (HJIn) HocTaBWMKa ToBapa H K cpoKy JeicTBHA TaKoi rapaHTHN:\\nTapaHTHYHbI cpOK Ha ToBap (cpOK JeicTBHA rapaHTHu HIocTaBIIHKa): He MeHee 12 MecAeB cO IHA IOJIINcaHHA IOKyMeHTa O 1pHeMKe 3aKa3uHKOM. TapaHTHA\\nBce cOnyTCTByIOIIHe rapaHTHYHOMy O6cJyKHBaHHIO MepOnIpHATHa (IOCTaBKa, TIOrpy3Ka, pa3rpy3Ka) ocyeCTBJMIOTCA cHJIaMN N 3a cYeT IIocTaBIIHKa.\\nBce 3aTpaTHI HIO rapaHTHYHOMy O6cJIyKHBaHMIO HeceT HIocTaBIIUK.\\nHHPOpMaIHA O MeCTaX HaXOKIeHH cepBHCHBIX HIeHTpOB H HIOpAIKe OOpaIIeHHA JOJIKHa HaXOINTECH B COIpOBOJNTeJIbHOH JOKyMeHTaINH K TOBapy.\\nTapaHTHUHOe O6cJIyKUBaHHeIOJIKHO OCyIWeCTBJIATECY B CepBHCHLIX IeHTpaX Ha OCHOBe CTaHIapTHbIXyCJIOBHY rapaHTHMHOrO O6cJIyKUBaHUA HpOH3BOIHTeJIA.\\nHpOJOJIKHTeJIBHOCTbrapaHTHYHOrO peMOHTa He IOJKHaIpeBBIaTB ONHOrOMeCAIa.\\nHIeHTpa JOJIKHa OCyHIeCTBJIAThCA 3a CyeT HIoCTaBIHMKa.\\nOCyIeCTBJIATbCABaBTOpH3OBaHHbIXCepBHCHbIXHIeHTpaXHpOH3BOIHTeJIA(IaJIee-CepBHCHbIY1IeHTp),HpNYeMIOCTaBKaToBapa BCepBUCHbIY HeHTpU H3 CepBUCHOrO\\n(npeICTaBUTeJA HIocTaBHKa)Ha MeCTO 9KCIJyaTaIHN Ha CJIeIyIOWNY pa6ouNi JeHb C JIaTbI O6paIWeHHA 3aKa3uHKa.KpyIIHBIi peMOHT H 3aMeHa ToBapa IOJKHbI\\nJeeKTaMN MaTepHaJIOB H IIpOH3BOICTBa, He 1IpOHCTeKaIOIHMH H3 HapyeHHA 3aKa3uMKOM 1IpaBUJI 3KCIUyaTaIIUu ToBapa.\\nHocTaBHUKJOJKeH O6eCHIeuNTIrapaHTHYHOe O6cJyKHBaHHeToBapa.\\n06cJIyKHBaHMIoToBapa,KpacxoJaM Ha 3KcJIyaTauUIo ToBapa:\\nH3rOTOBUTeJA,HO3BOJMIOIHIen TpaHCHIOpTHpOBaTb erO JIIO6BIM BHIOM TpaHCIIOpTa Ha JIIO6oe pacCTOXHHe, IpeJOXpaHATh OT HOBpeKIeHHi,3arpA3HeHHY,yTpaTbI\\nHa pyCCKOM A3bIKe. TeXHHYeCKaA JOKyMeHTaHIHA IOJIKHa 6bITH Ha pycCKOM 3bIKe.\\n3).HIpH 1IOCTaBKeToBapaHIoCTaBIIUKJOJKeHIpeJOCTaBUTETeXHHyeCKyIOIOKyMeHTaIINIOHaToBap.BceHeO6xOIHMBIePyKOBOICTBaIOJIb3OBaTeJAJOJIKHBI OBITb\\npoynepacxoJHbleMaTepHaJIbl.\\n2). B cOCTaB HOCTaBJIHeMOro ToBapa IOJIKHbI 6bITh BKJIIOyeHbr: BCe HeO6xOIHMbIe pacXOJHBIe MaTepHaJIbI -\\nToBapa, HHCTpyKTaK IepcOHaIa.\\n1). IlocTaBKa BKJIIOuaeT B ceOx: JOCTaBKa ToBapa IO MecTa, yKa3aHHoro 3aKa3uHKOM, pa3rpy3Ka-Iorpy3Ka, pa3MeeHHe B MecTax xpaHeHH9 3aKa3uHKa, c6opKy\\nTpe6oBaHUA K IIOcTaBKe ToBapa:\\nMecTO JocTaBKM TOBapa: PT, r. HuKHeKaMCK, yI1. IOHOcTH, I.4.\\nCpoK IocTaBKH TOBapa: 15 JHeii c MOMeHTa 3aKJIOyeHHA KOHTpaKTa.\\nHAW\\nEpMaKOBa A\\n30\\nCOeIHHNTeJbHBIe Ka6eJIH, pa3beMbI,IepeXOIHHKH H', metadata={'source': '/content/pdf/0111300005122000490.pdf', 'page': 5})]"
            ]
          },
          "metadata": {},
          "execution_count": 2
        }
      ]
    },
    {
      "cell_type": "code",
      "source": [],
      "metadata": {
        "id": "vCUQRppNbXPK"
      },
      "execution_count": null,
      "outputs": []
    }
  ]
}